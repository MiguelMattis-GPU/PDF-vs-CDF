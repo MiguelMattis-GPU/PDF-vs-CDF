{
 "cells": [
  {
   "cell_type": "markdown",
   "metadata": {
    "colab_type": "text",
    "id": "6mmxxsyO0smG"
   },
   "source": [
    "1) The PDF ( probability density function) is a probability law for a continuous random variable say X ( for discrete, it is probability mass function).\n",
    "\n",
    "The probability law defines the chances of the random variable taking a particular value say x, i.e. P (X=x). \n",
    "However this definition is not valid for continuous random variables because the probability at a given point is zero. \n",
    "An alternate to this is: pdf= P (x-e<X<=x)/e as e tends to zero.\n",
    "\n",
    "2) The CDF ( Cumulative Distribution Function) as the name cumulative suggests, is simply the probability upto a particular value of the random variable, say x. Generally denoted by F, F= P (X<=x) for any value of x in the X space. It is defined for both discrete and continuous random variables.\n",
    "\n",
    "These following examples will graphically prove the PDF and CDF and how they are related using the mass function"
   ]
  },
  {
   "cell_type": "code",
   "execution_count": 91,
   "metadata": {
    "colab": {
     "base_uri": "https://localhost:8080/",
     "height": 316
    },
    "colab_type": "code",
    "executionInfo": {
     "elapsed": 386,
     "status": "ok",
     "timestamp": 1554693234488,
     "user": {
      "displayName": "Tristan Irons",
      "photoUrl": "",
      "userId": "06363254473347900275"
     },
     "user_tz": 240
    },
    "id": "2Yy3Dr0mtEsz",
    "outputId": "2f82dc92-3220-4fdb-edc9-fb1d8d7e4861"
   },
   "outputs": [
    {
     "data": {
      "text/html": [
       "<div class=\"mxgraph\" style=\"max-width:100%;border:1px solid transparent;\" data-mxgraph=\"{&quot;highlight&quot;:&quot;#0000ff&quot;,&quot;nav&quot;:true,&quot;resize&quot;:true,&quot;toolbar&quot;:&quot;zoom layers lightbox&quot;,&quot;edit&quot;:&quot;_blank&quot;,&quot;xml&quot;:&quot;&lt;mxfile modified=\\&quot;2019-04-08T03:13:21.825Z\\&quot; host=\\&quot;www.draw.io\\&quot; agent=\\&quot;Mozilla/5.0 (Windows NT 10.0; Win64; x64) AppleWebKit/537.36 (KHTML, like Gecko) Chrome/73.0.3683.86 Safari/537.36\\&quot; etag=\\&quot;1KgRzkXMJgoxu7LmOzrH\\&quot; version=\\&quot;10.6.0\\&quot; type=\\&quot;google\\&quot;&gt;&lt;diagram id=\\&quot;dQivbZUkuhp25mKMDySA\\&quot; name=\\&quot;Page-1\\&quot;&gt;5Vbfb5swEP5r8piIAEmaxwRKqynpOmVNu71UBhxwYzjXmJLsr98ZTH4sabVJ7R62SBHHd+e7832fgY7jZZsrSUQ6h5jyjm3Fm47jd2y774xdvGhk2yCj/qABEsliE7QHFuwHNaBl0JLFtDgKVABcMXEMRpDnNFJHGJESquOwFfDjqoIk9ARYRISfovcsVmmDXgysPX5NWZK2lfuW8WSkDTZAkZIYqgPIuew4ngRQjZVtPMr18Nq5NOuCV7y7xiTN1e8smPGFK3zVnYP69N0Jk+WTP+86TZYXwkuzYdOs2rYTwL6FNllWj2r6QqViOKAZCSm/hYIpBjn6Q1AKMgzg2jEl0TqRUOaxBxxkncpZ1b+DHBPOEr1WgUCUFKKhcMU2FLue1iUnLWq1CNqpUloAE71dO6B5JLdC0birwtzqJYUimL4XYTt2UC/B2OBZFwqx3GRyE4+voq90vgxG1zkpnr+Rz/6dsGcCPNefDQer8ot4ur9dFs7afhB33n0Yuw8VjnVq5oX9082rRPR39OK5oJBRJbcYsjsU5giYI9EfGYVUe4HZY4Olh+IamcNEjKiTXe4972gY6v9ABu4/IYNScCBxr2JrltGYkR7IBGF9L/Q92iiJDPICLZWWWagR/deuG5AZ4Y8+K5RkYam38+j5Qa940Ukc1xKb7hsxPZEn76MPt324vKmPizP6aEXz7voYnNHHkGPZ6QpwU4dCGT6X0Dq6Rf08R3os2xWbvROtRF9v/aBNhH01uRrPif5wnhpPVYad+300kQNY01ZXOeRalivG+S8QMeqKcP5UnpFdxuJYl5lWKVN0IUika1b4QkOsFq+WYS28d6DXHh7T64xP6XXPnH77o8gdfhC53n9I7mA0/lvk4u3+46H2HXyCOZc/AQ==&lt;/diagram&gt;&lt;/mxfile&gt;&quot;}\"></div>\n",
       "<script type=\"text/javascript\" src=\"https://www.draw.io/js/viewer.min.js\"></script>"
      ],
      "text/plain": [
       "<IPython.core.display.HTML object>"
      ]
     },
     "metadata": {
      "tags": []
     },
     "output_type": "display_data"
    }
   ],
   "source": [
    "%%html\n",
    "<div class=\"mxgraph\" style=\"max-width:100%;border:1px solid transparent;\" data-mxgraph=\"{&quot;highlight&quot;:&quot;#0000ff&quot;,&quot;nav&quot;:true,&quot;resize&quot;:true,&quot;toolbar&quot;:&quot;zoom layers lightbox&quot;,&quot;edit&quot;:&quot;_blank&quot;,&quot;xml&quot;:&quot;&lt;mxfile modified=\\&quot;2019-04-08T03:13:21.825Z\\&quot; host=\\&quot;www.draw.io\\&quot; agent=\\&quot;Mozilla/5.0 (Windows NT 10.0; Win64; x64) AppleWebKit/537.36 (KHTML, like Gecko) Chrome/73.0.3683.86 Safari/537.36\\&quot; etag=\\&quot;1KgRzkXMJgoxu7LmOzrH\\&quot; version=\\&quot;10.6.0\\&quot; type=\\&quot;google\\&quot;&gt;&lt;diagram id=\\&quot;dQivbZUkuhp25mKMDySA\\&quot; name=\\&quot;Page-1\\&quot;&gt;5Vbfb5swEP5r8piIAEmaxwRKqynpOmVNu71UBhxwYzjXmJLsr98ZTH4sabVJ7R62SBHHd+e7832fgY7jZZsrSUQ6h5jyjm3Fm47jd2y774xdvGhk2yCj/qABEsliE7QHFuwHNaBl0JLFtDgKVABcMXEMRpDnNFJHGJESquOwFfDjqoIk9ARYRISfovcsVmmDXgysPX5NWZK2lfuW8WSkDTZAkZIYqgPIuew4ngRQjZVtPMr18Nq5NOuCV7y7xiTN1e8smPGFK3zVnYP69N0Jk+WTP+86TZYXwkuzYdOs2rYTwL6FNllWj2r6QqViOKAZCSm/hYIpBjn6Q1AKMgzg2jEl0TqRUOaxBxxkncpZ1b+DHBPOEr1WgUCUFKKhcMU2FLue1iUnLWq1CNqpUloAE71dO6B5JLdC0birwtzqJYUimL4XYTt2UC/B2OBZFwqx3GRyE4+voq90vgxG1zkpnr+Rz/6dsGcCPNefDQer8ot4ur9dFs7afhB33n0Yuw8VjnVq5oX9082rRPR39OK5oJBRJbcYsjsU5giYI9EfGYVUe4HZY4Olh+IamcNEjKiTXe4972gY6v9ABu4/IYNScCBxr2JrltGYkR7IBGF9L/Q92iiJDPICLZWWWagR/deuG5AZ4Y8+K5RkYam38+j5Qa940Ukc1xKb7hsxPZEn76MPt324vKmPizP6aEXz7voYnNHHkGPZ6QpwU4dCGT6X0Dq6Rf08R3os2xWbvROtRF9v/aBNhH01uRrPif5wnhpPVYad+300kQNY01ZXOeRalivG+S8QMeqKcP5UnpFdxuJYl5lWKVN0IUika1b4QkOsFq+WYS28d6DXHh7T64xP6XXPnH77o8gdfhC53n9I7mA0/lvk4u3+46H2HXyCOZc/AQ==&lt;/diagram&gt;&lt;/mxfile&gt;&quot;}\"></div>\n",
    "<script type=\"text/javascript\" src=\"https://www.draw.io/js/viewer.min.js\"></script>"
   ]
  },
  {
   "cell_type": "code",
   "execution_count": 0,
   "metadata": {
    "colab": {},
    "colab_type": "code",
    "id": "8_1_vM8bI5Vu"
   },
   "outputs": [],
   "source": [
    "import numpy as np\n",
    "import matplotlib.pyplot as plt"
   ]
  },
  {
   "cell_type": "code",
   "execution_count": 0,
   "metadata": {
    "colab": {},
    "colab_type": "code",
    "id": "SyfTGPY7I5X7"
   },
   "outputs": [],
   "source": [
    "mu = 2.1\n",
    "sigma = 0.12"
   ]
  },
  {
   "cell_type": "code",
   "execution_count": 0,
   "metadata": {
    "colab": {},
    "colab_type": "code",
    "id": "GwmTMYTPI5ak"
   },
   "outputs": [],
   "source": [
    "x = sigma * np.random.randn(1,10) + mu #follows mx+b for each point"
   ]
  },
  {
   "cell_type": "code",
   "execution_count": 12,
   "metadata": {
    "colab": {
     "base_uri": "https://localhost:8080/",
     "height": 34
    },
    "colab_type": "code",
    "executionInfo": {
     "elapsed": 1460,
     "status": "ok",
     "timestamp": 1554689526088,
     "user": {
      "displayName": "Tristan Irons",
      "photoUrl": "",
      "userId": "06363254473347900275"
     },
     "user_tz": 240
    },
    "id": "6fObirveYUl8",
    "outputId": "2532a5ee-4a55-472f-9dc3-451704a69ff0"
   },
   "outputs": [
    {
     "data": {
      "text/plain": [
       "array([0.88939185])"
      ]
     },
     "execution_count": 12,
     "metadata": {
      "tags": []
     },
     "output_type": "execute_result"
    }
   ],
   "source": [
    "np.random.random(1)"
   ]
  },
  {
   "cell_type": "code",
   "execution_count": 13,
   "metadata": {
    "colab": {
     "base_uri": "https://localhost:8080/",
     "height": 348
    },
    "colab_type": "code",
    "executionInfo": {
     "elapsed": 1819,
     "status": "ok",
     "timestamp": 1554689526469,
     "user": {
      "displayName": "Tristan Irons",
      "photoUrl": "",
      "userId": "06363254473347900275"
     },
     "user_tz": 240
    },
    "id": "BnVV9vQuI5kK",
    "outputId": "042f1068-ebfc-420a-a939-5adf975f8357"
   },
   "outputs": [
    {
     "data": {
      "image/png": "[encoded data removed]",
      "text/plain": [
       "<Figure size 576x396 with 1 Axes>"
      ]
     },
     "metadata": {
      "tags": []
     },
     "output_type": "display_data"
    }
   ],
   "source": [
    "plt.hist(np.random.randn(10000,),50); #demonstrates the normal curve and also proves the maximum likelihood function"
   ]
  },
  {
   "cell_type": "code",
   "execution_count": 0,
   "metadata": {
    "colab": {},
    "colab_type": "code",
    "id": "pNmQfHuuYZzI"
   },
   "outputs": [],
   "source": [
    "x = sigma * np.random.randn(1,10) + mu"
   ]
  },
  {
   "cell_type": "code",
   "execution_count": 0,
   "metadata": {
    "colab": {},
    "colab_type": "code",
    "id": "Gj8AUVaPlWGI"
   },
   "outputs": [],
   "source": [
    "x = sigma * np.random.randn(1000,1) + mu"
   ]
  },
  {
   "cell_type": "code",
   "execution_count": 16,
   "metadata": {
    "colab": {
     "base_uri": "https://localhost:8080/",
     "height": 347
    },
    "colab_type": "code",
    "executionInfo": {
     "elapsed": 1975,
     "status": "ok",
     "timestamp": 1554689526702,
     "user": {
      "displayName": "Tristan Irons",
      "photoUrl": "",
      "userId": "06363254473347900275"
     },
     "user_tz": 240
    },
    "id": "c57QzB30lK1J",
    "outputId": "5100612e-cfb2-418b-a5cf-23409bb0c4a5"
   },
   "outputs": [
    {
     "data": {
      "image/png": "[encoded data removed]",
      "text/plain": [
       "<Figure size 576x396 with 1 Axes>"
      ]
     },
     "metadata": {
      "tags": []
     },
     "output_type": "display_data"
    }
   ],
   "source": [
    "plt.hist(x,50);"
   ]
  },
  {
   "cell_type": "code",
   "execution_count": 0,
   "metadata": {
    "colab": {},
    "colab_type": "code",
    "id": "wJeNBtZ7lKe8"
   },
   "outputs": [],
   "source": []
  },
  {
   "cell_type": "code",
   "execution_count": 0,
   "metadata": {
    "colab": {},
    "colab_type": "code",
    "id": "KOw_nyqXlKbI"
   },
   "outputs": [],
   "source": []
  },
  {
   "cell_type": "code",
   "execution_count": 17,
   "metadata": {
    "colab": {
     "base_uri": "https://localhost:8080/",
     "height": 17017
    },
    "colab_type": "code",
    "executionInfo": {
     "elapsed": 1941,
     "status": "ok",
     "timestamp": 1554689526709,
     "user": {
      "displayName": "Tristan Irons",
      "photoUrl": "",
      "userId": "06363254473347900275"
     },
     "user_tz": 240
    },
    "id": "MRcScnYeYZv8",
    "outputId": "085b66c0-11d0-473a-9358-d3bf79af6bd9"
   },
   "outputs": [
    {
     "data": {
      "text/plain": [
       "array([[2.01214575],\n",
       "       [2.10977194],\n",
       "       [2.20648265],\n",
       "       [2.18818397],\n",
       "       [2.17841251],\n",
       "       [2.29852715],\n",
       "       [2.12139587],\n",
       "       [2.05298384],\n",
       "       [2.01182955],\n",
       "       [2.14381955],\n",
       "       [2.10982639],\n",
       "       [2.01377779],\n",
       "       [1.97111056],\n",
       "       [2.09284877],\n",
       "       [2.02306026],\n",
       "       [2.07825782],\n",
       "       [2.31455273],\n",
       "       [2.0055545 ],\n",
       "       [2.06251461],\n",
       "       [1.98039659],\n",
       "       [2.03017756],\n",
       "       [2.02938189],\n",
       "       [2.05749488],\n",
       "       [2.1263257 ],\n",
       "       [1.92457656],\n",
       "       [2.35706776],\n",
       "       [2.14362685],\n",
       "       [2.0637076 ],\n",
       "       [2.21427903],\n",
       "       [2.05430702],\n",
       "       [1.97066959],\n",
       "       [2.15887715],\n",
       "       [2.1200673 ],\n",
       "       [1.84163449],\n",
       "       [2.15090556],\n",
       "       [2.14615395],\n",
       "       [2.21213812],\n",
       "       [2.15046514],\n",
       "       [1.95749071],\n",
       "       [2.17661494],\n",
       "       [2.18943987],\n",
       "       [2.0379008 ],\n",
       "       [2.06001659],\n",
       "       [2.15793961],\n",
       "       [2.12803401],\n",
       "       [2.12116322],\n",
       "       [2.09710703],\n",
       "       [2.15061983],\n",
       "       [2.1120184 ],\n",
       "       [1.98710844],\n",
       "       [1.97736937],\n",
       "       [2.05819577],\n",
       "       [2.1545783 ],\n",
       "       [2.16512686],\n",
       "       [2.05902271],\n",
       "       [2.13573196],\n",
       "       [2.0966647 ],\n",
       "       [2.01612392],\n",
       "       [2.22835602],\n",
       "       [1.99578754],\n",
       "       [1.93098977],\n",
       "       [2.20057177],\n",
       "       [2.04551597],\n",
       "       [2.01218468],\n",
       "       [2.04147915],\n",
       "       [2.03224129],\n",
       "       [1.93730145],\n",
       "       [2.20759324],\n",
       "       [1.81045784],\n",
       "       [2.38204779],\n",
       "       [2.09539154],\n",
       "       [2.14973341],\n",
       "       [1.97581573],\n",
       "       [2.21505291],\n",
       "       [2.19726192],\n",
       "       [2.11182841],\n",
       "       [2.23026426],\n",
       "       [1.92306198],\n",
       "       [2.2346142 ],\n",
       "       [2.06934598],\n",
       "       [2.14726683],\n",
       "       [2.17825872],\n",
       "       [1.92684834],\n",
       "       [2.22954641],\n",
       "       [1.92715019],\n",
       "       [2.11970711],\n",
       "       [2.14700442],\n",
       "       [2.04761773],\n",
       "       [1.87428475],\n",
       "       [2.10931214],\n",
       "       [2.17255195],\n",
       "       [1.95377581],\n",
       "       [2.18252959],\n",
       "       [1.94562388],\n",
       "       [2.32933209],\n",
       "       [1.90397392],\n",
       "       [2.27171748],\n",
       "       [2.07036823],\n",
       "       [2.28880041],\n",
       "       [1.9871761 ],\n",
       "       [2.11093574],\n",
       "       [1.9623715 ],\n",
       "       [1.83486966],\n",
       "       [2.1493703 ],\n",
       "       [2.09904792],\n",
       "       [2.11581576],\n",
       "       [2.07586386],\n",
       "       [1.83002893],\n",
       "       [2.06180248],\n",
       "       [1.9862601 ],\n",
       "       [2.11480506],\n",
       "       [2.26592695],\n",
       "       [2.10524447],\n",
       "       [1.96327092],\n",
       "       [2.10960387],\n",
       "       [2.19451209],\n",
       "       [1.8941327 ],\n",
       "       [1.98527375],\n",
       "       [2.12083414],\n",
       "       [2.19007556],\n",
       "       [2.13907372],\n",
       "       [2.29212513],\n",
       "       [2.03069869],\n",
       "       [2.26246188],\n",
       "       [2.11770361],\n",
       "       [1.84072507],\n",
       "       [2.17739176],\n",
       "       [2.04312592],\n",
       "       [2.07731152],\n",
       "       [2.06850609],\n",
       "       [1.89345105],\n",
       "       [2.2899146 ],\n",
       "       [1.96826485],\n",
       "       [1.95405201],\n",
       "       [2.28205741],\n",
       "       [2.14069415],\n",
       "       [1.95305531],\n",
       "       [2.09362249],\n",
       "       [2.06881223],\n",
       "       [2.08319333],\n",
       "       [1.99251964],\n",
       "       [2.12175205],\n",
       "       [2.20476229],\n",
       "       [1.97021182],\n",
       "       [2.15615938],\n",
       "       [2.17421874],\n",
       "       [2.09878251],\n",
       "       [2.06910551],\n",
       "       [2.04817141],\n",
       "       [2.20182103],\n",
       "       [1.9902246 ],\n",
       "       [2.26878403],\n",
       "       [2.01687853],\n",
       "       [2.09482414],\n",
       "       [2.40638632],\n",
       "       [1.80677079],\n",
       "       [2.14700792],\n",
       "       [2.33320225],\n",
       "       [2.13397178],\n",
       "       [1.96334642],\n",
       "       [2.29507283],\n",
       "       [2.0424501 ],\n",
       "       [1.95847457],\n",
       "       [2.15167477],\n",
       "       [2.37868706],\n",
       "       [2.1716702 ],\n",
       "       [2.14337611],\n",
       "       [1.99094293],\n",
       "       [2.27308302],\n",
       "       [1.98555745],\n",
       "       [2.15169236],\n",
       "       [2.05113601],\n",
       "       [2.00878953],\n",
       "       [1.92956093],\n",
       "       [2.25231574],\n",
       "       [2.08632275],\n",
       "       [2.03245767],\n",
       "       [2.0089268 ],\n",
       "       [2.04413453],\n",
       "       [2.10610546],\n",
       "       [2.07097312],\n",
       "       [2.31149672],\n",
       "       [2.11643989],\n",
       "       [2.00745902],\n",
       "       [1.87557705],\n",
       "       [2.01901876],\n",
       "       [2.1327238 ],\n",
       "       [2.12570385],\n",
       "       [1.94702173],\n",
       "       [2.07250457],\n",
       "       [2.09616047],\n",
       "       [2.49221991],\n",
       "       [1.87066482],\n",
       "       [2.02496949],\n",
       "       [2.16676843],\n",
       "       [1.94997038],\n",
       "       [2.06917619],\n",
       "       [2.20699661],\n",
       "       [2.31855047],\n",
       "       [2.20243788],\n",
       "       [2.11596454],\n",
       "       [2.20761436],\n",
       "       [2.03501762],\n",
       "       [2.03785239],\n",
       "       [2.08585745],\n",
       "       [2.13736901],\n",
       "       [2.03880973],\n",
       "       [2.18004317],\n",
       "       [1.87742286],\n",
       "       [2.1682322 ],\n",
       "       [2.1950808 ],\n",
       "       [2.20114547],\n",
       "       [2.00695391],\n",
       "       [2.23215827],\n",
       "       [2.11738863],\n",
       "       [1.99383988],\n",
       "       [2.01061618],\n",
       "       [2.20759813],\n",
       "       [2.30701314],\n",
       "       [2.10707718],\n",
       "       [2.1591293 ],\n",
       "       [2.26231096],\n",
       "       [1.97545497],\n",
       "       [2.15845093],\n",
       "       [2.17692689],\n",
       "       [2.05511647],\n",
       "       [1.91084491],\n",
       "       [1.91384509],\n",
       "       [1.93098658],\n",
       "       [2.12049175],\n",
       "       [2.30653084],\n",
       "       [2.09272816],\n",
       "       [2.23807701],\n",
       "       [2.11208704],\n",
       "       [2.08435785],\n",
       "       [2.18051807],\n",
       "       [2.10041513],\n",
       "       [2.19078002],\n",
       "       [2.08056742],\n",
       "       [2.24109011],\n",
       "       [2.05604883],\n",
       "       [2.13597681],\n",
       "       [2.19705697],\n",
       "       [2.1795157 ],\n",
       "       [2.16445545],\n",
       "       [2.11053658],\n",
       "       [2.1277055 ],\n",
       "       [2.24941807],\n",
       "       [2.04743286],\n",
       "       [1.98698086],\n",
       "       [2.1484683 ],\n",
       "       [2.15088579],\n",
       "       [2.00014209],\n",
       "       [1.98027349],\n",
       "       [1.87004322],\n",
       "       [2.15689005],\n",
       "       [2.12549399],\n",
       "       [2.16884366],\n",
       "       [1.9897192 ],\n",
       "       [1.92555342],\n",
       "       [2.34023326],\n",
       "       [2.18315274],\n",
       "       [2.10387907],\n",
       "       [2.09320277],\n",
       "       [2.27642008],\n",
       "       [2.11362172],\n",
       "       [2.26554993],\n",
       "       [2.18451911],\n",
       "       [2.17696676],\n",
       "       [2.10597652],\n",
       "       [2.1378451 ],\n",
       "       [2.11066298],\n",
       "       [2.11426633],\n",
       "       [2.1600052 ],\n",
       "       [1.85629554],\n",
       "       [2.04192589],\n",
       "       [2.05447617],\n",
       "       [2.26665469],\n",
       "       [2.19736733],\n",
       "       [1.99556241],\n",
       "       [2.21167103],\n",
       "       [2.29548071],\n",
       "       [1.9627463 ],\n",
       "       [1.97517907],\n",
       "       [2.10072269],\n",
       "       [2.37925994],\n",
       "       [2.20273971],\n",
       "       [2.16289635],\n",
       "       [2.26723567],\n",
       "       [2.1676865 ],\n",
       "       [2.10463315],\n",
       "       [2.08758032],\n",
       "       [2.27016041],\n",
       "       [2.08826393],\n",
       "       [2.13867225],\n",
       "       [1.9730141 ],\n",
       "       [2.20257383],\n",
       "       [2.03788885],\n",
       "       [2.06909035],\n",
       "       [2.08788115],\n",
       "       [2.09862913],\n",
       "       [2.15733422],\n",
       "       [2.25713084],\n",
       "       [1.98348955],\n",
       "       [1.93917154],\n",
       "       [2.190213  ],\n",
       "       [1.92452893],\n",
       "       [2.15578751],\n",
       "       [2.10826053],\n",
       "       [1.90052881],\n",
       "       [2.05887214],\n",
       "       [2.17334796],\n",
       "       [2.12521238],\n",
       "       [2.27505726],\n",
       "       [2.04442735],\n",
       "       [2.4447131 ],\n",
       "       [2.09315344],\n",
       "       [1.84710518],\n",
       "       [2.17642797],\n",
       "       [2.09986418],\n",
       "       [2.15085874],\n",
       "       [2.45541544],\n",
       "       [2.23103887],\n",
       "       [2.27936513],\n",
       "       [1.94105817],\n",
       "       [2.03465854],\n",
       "       [2.11126513],\n",
       "       [2.1023706 ],\n",
       "       [2.09731734],\n",
       "       [2.03062156],\n",
       "       [1.94880014],\n",
       "       [2.15003648],\n",
       "       [2.20691349],\n",
       "       [2.02791143],\n",
       "       [2.14470682],\n",
       "       [2.12117125],\n",
       "       [1.93371814],\n",
       "       [1.99687196],\n",
       "       [2.02526309],\n",
       "       [2.08301339],\n",
       "       [2.02437894],\n",
       "       [2.11738455],\n",
       "       [2.12053551],\n",
       "       [1.88216764],\n",
       "       [2.0641615 ],\n",
       "       [2.13399296],\n",
       "       [2.16625058],\n",
       "       [1.93275721],\n",
       "       [2.145918  ],\n",
       "       [2.09784471],\n",
       "       [2.04384328],\n",
       "       [2.2133834 ],\n",
       "       [2.05536774],\n",
       "       [2.13447587],\n",
       "       [2.19261602],\n",
       "       [2.10285082],\n",
       "       [2.08749182],\n",
       "       [2.22849466],\n",
       "       [2.14851279],\n",
       "       [2.13224093],\n",
       "       [2.168129  ],\n",
       "       [2.17890347],\n",
       "       [2.13401993],\n",
       "       [2.13476008],\n",
       "       [2.14400603],\n",
       "       [2.18436085],\n",
       "       [2.13435123],\n",
       "       [2.16854076],\n",
       "       [2.09511251],\n",
       "       [2.09458044],\n",
       "       [2.15064176],\n",
       "       [1.88200212],\n",
       "       [2.21222706],\n",
       "       [1.78298951],\n",
       "       [1.99669455],\n",
       "       [2.03808683],\n",
       "       [2.15683049],\n",
       "       [2.07139797],\n",
       "       [2.01235182],\n",
       "       [2.37902213],\n",
       "       [2.07358589],\n",
       "       [2.04428427],\n",
       "       [2.11487758],\n",
       "       [2.00522836],\n",
       "       [2.1929258 ],\n",
       "       [2.01272707],\n",
       "       [2.18424485],\n",
       "       [2.25611741],\n",
       "       [2.05099535],\n",
       "       [2.2812901 ],\n",
       "       [2.27844311],\n",
       "       [2.09834162],\n",
       "       [1.90296954],\n",
       "       [1.91777689],\n",
       "       [2.09564199],\n",
       "       [2.19266201],\n",
       "       [2.23238458],\n",
       "       [1.95033639],\n",
       "       [2.15378681],\n",
       "       [2.22621623],\n",
       "       [2.07703773],\n",
       "       [2.0942275 ],\n",
       "       [1.94542079],\n",
       "       [2.16685385],\n",
       "       [2.27460048],\n",
       "       [2.13949283],\n",
       "       [2.02942984],\n",
       "       [1.99921095],\n",
       "       [2.08860511],\n",
       "       [2.20706918],\n",
       "       [2.08962156],\n",
       "       [2.30973401],\n",
       "       [2.07476795],\n",
       "       [2.05770239],\n",
       "       [1.82675785],\n",
       "       [2.10301032],\n",
       "       [2.27028165],\n",
       "       [1.98320995],\n",
       "       [2.00502673],\n",
       "       [2.02562303],\n",
       "       [1.99376033],\n",
       "       [2.18403866],\n",
       "       [2.14923691],\n",
       "       [2.11211767],\n",
       "       [2.0850768 ],\n",
       "       [2.09848634],\n",
       "       [1.99703842],\n",
       "       [2.19463338],\n",
       "       [2.16484319],\n",
       "       [2.13327288],\n",
       "       [2.21915713],\n",
       "       [2.2662904 ],\n",
       "       [2.27309987],\n",
       "       [2.26102479],\n",
       "       [2.19971665],\n",
       "       [2.1364776 ],\n",
       "       [2.22096644],\n",
       "       [2.29133056],\n",
       "       [2.14098611],\n",
       "       [2.07801185],\n",
       "       [1.95725158],\n",
       "       [2.0758626 ],\n",
       "       [1.97592691],\n",
       "       [1.97974761],\n",
       "       [2.18497271],\n",
       "       [2.39129396],\n",
       "       [2.00992061],\n",
       "       [2.08567645],\n",
       "       [2.18667694],\n",
       "       [2.04416253],\n",
       "       [2.08829212],\n",
       "       [2.04366663],\n",
       "       [2.16928775],\n",
       "       [2.01087413],\n",
       "       [2.21158986],\n",
       "       [1.8928112 ],\n",
       "       [2.23347866],\n",
       "       [2.00446705],\n",
       "       [2.1270644 ],\n",
       "       [2.02069339],\n",
       "       [1.95204033],\n",
       "       [2.04274205],\n",
       "       [1.89213087],\n",
       "       [2.12877912],\n",
       "       [1.98158312],\n",
       "       [2.33058313],\n",
       "       [2.14227252],\n",
       "       [2.36082368],\n",
       "       [2.10171442],\n",
       "       [2.11154474],\n",
       "       [2.29363286],\n",
       "       [2.09537284],\n",
       "       [2.03241541],\n",
       "       [2.01963308],\n",
       "       [2.31517636],\n",
       "       [1.97539441],\n",
       "       [2.15061242],\n",
       "       [2.10281665],\n",
       "       [2.20474713],\n",
       "       [2.15321231],\n",
       "       [2.079077  ],\n",
       "       [2.04962718],\n",
       "       [1.88654949],\n",
       "       [2.0110487 ],\n",
       "       [2.02365527],\n",
       "       [2.201539  ],\n",
       "       [2.12198535],\n",
       "       [2.28501771],\n",
       "       [2.06404395],\n",
       "       [2.38657829],\n",
       "       [2.00963624],\n",
       "       [1.900225  ],\n",
       "       [2.01619878],\n",
       "       [2.28115552],\n",
       "       [2.11193559],\n",
       "       [2.05810098],\n",
       "       [2.19071205],\n",
       "       [2.05216906],\n",
       "       [2.12600593],\n",
       "       [2.02406273],\n",
       "       [2.28433906],\n",
       "       [2.05443398],\n",
       "       [2.24004241],\n",
       "       [2.26474373],\n",
       "       [2.0657376 ],\n",
       "       [2.21531634],\n",
       "       [2.13258016],\n",
       "       [2.15843089],\n",
       "       [2.03949116],\n",
       "       [2.18293601],\n",
       "       [1.94214251],\n",
       "       [2.07898735],\n",
       "       [2.25663282],\n",
       "       [2.11076635],\n",
       "       [2.07447383],\n",
       "       [2.05476109],\n",
       "       [2.05769498],\n",
       "       [2.23334342],\n",
       "       [2.22532806],\n",
       "       [2.16124828],\n",
       "       [2.07676014],\n",
       "       [2.18429312],\n",
       "       [2.36740981],\n",
       "       [2.30556142],\n",
       "       [2.02435053],\n",
       "       [2.08143545],\n",
       "       [2.07068678],\n",
       "       [2.06172023],\n",
       "       [2.03721147],\n",
       "       [2.05307805],\n",
       "       [1.99842192],\n",
       "       [2.24253851],\n",
       "       [1.86892385],\n",
       "       [2.03539729],\n",
       "       [2.18051854],\n",
       "       [2.04179713],\n",
       "       [2.11451823],\n",
       "       [2.23344494],\n",
       "       [2.03894156],\n",
       "       [2.12969829],\n",
       "       [2.08990221],\n",
       "       [1.89788578],\n",
       "       [1.96712933],\n",
       "       [2.12929495],\n",
       "       [2.1263692 ],\n",
       "       [1.92702001],\n",
       "       [1.92358604],\n",
       "       [1.93819041],\n",
       "       [2.25285762],\n",
       "       [2.0935749 ],\n",
       "       [1.8525299 ],\n",
       "       [2.04254379],\n",
       "       [2.0072276 ],\n",
       "       [2.19243383],\n",
       "       [2.15582157],\n",
       "       [2.07804325],\n",
       "       [1.9480922 ],\n",
       "       [2.26866468],\n",
       "       [2.20940196],\n",
       "       [1.99520913],\n",
       "       [2.26724078],\n",
       "       [1.85774866],\n",
       "       [1.88286085],\n",
       "       [2.17264097],\n",
       "       [2.13732811],\n",
       "       [2.22766194],\n",
       "       [2.30426559],\n",
       "       [2.26614389],\n",
       "       [1.99867427],\n",
       "       [2.15981942],\n",
       "       [1.92972001],\n",
       "       [1.98797126],\n",
       "       [2.12584889],\n",
       "       [2.11225171],\n",
       "       [2.14432316],\n",
       "       [1.86499934],\n",
       "       [2.16839409],\n",
       "       [2.20374236],\n",
       "       [2.22244319],\n",
       "       [2.15330083],\n",
       "       [2.09299981],\n",
       "       [2.19625517],\n",
       "       [1.98099472],\n",
       "       [2.09021262],\n",
       "       [2.08574403],\n",
       "       [1.96046673],\n",
       "       [2.24181099],\n",
       "       [2.12475054],\n",
       "       [2.12056877],\n",
       "       [2.0881345 ],\n",
       "       [1.94740902],\n",
       "       [2.25244352],\n",
       "       [2.03800027],\n",
       "       [2.02591525],\n",
       "       [1.9478795 ],\n",
       "       [1.96771124],\n",
       "       [2.04132431],\n",
       "       [2.39116332],\n",
       "       [2.15271359],\n",
       "       [2.16666065],\n",
       "       [2.05674909],\n",
       "       [2.1750899 ],\n",
       "       [2.12966596],\n",
       "       [1.91499006],\n",
       "       [2.2036703 ],\n",
       "       [2.10227954],\n",
       "       [2.02223708],\n",
       "       [2.14478459],\n",
       "       [2.1188918 ],\n",
       "       [2.26792732],\n",
       "       [1.97337673],\n",
       "       [2.24757842],\n",
       "       [2.20611721],\n",
       "       [2.082297  ],\n",
       "       [1.97284258],\n",
       "       [2.03604796],\n",
       "       [2.1408658 ],\n",
       "       [2.15667944],\n",
       "       [2.05880275],\n",
       "       [2.21123259],\n",
       "       [2.22781682],\n",
       "       [2.01877483],\n",
       "       [2.02909163],\n",
       "       [2.10494977],\n",
       "       [2.06291827],\n",
       "       [2.1582021 ],\n",
       "       [1.90809023],\n",
       "       [2.06245232],\n",
       "       [2.10170539],\n",
       "       [2.06397995],\n",
       "       [2.14243614],\n",
       "       [2.15786794],\n",
       "       [2.04196874],\n",
       "       [2.36818203],\n",
       "       [1.95678975],\n",
       "       [2.23899146],\n",
       "       [2.15970368],\n",
       "       [2.0092402 ],\n",
       "       [2.05938748],\n",
       "       [2.16967606],\n",
       "       [1.96458599],\n",
       "       [1.97565637],\n",
       "       [1.89022769],\n",
       "       [2.13653284],\n",
       "       [1.97889745],\n",
       "       [2.40614213],\n",
       "       [2.23476676],\n",
       "       [2.29769879],\n",
       "       [1.99338157],\n",
       "       [2.04039892],\n",
       "       [2.15030545],\n",
       "       [2.05038234],\n",
       "       [2.00905464],\n",
       "       [2.17866234],\n",
       "       [2.07491756],\n",
       "       [1.93933129],\n",
       "       [2.0670639 ],\n",
       "       [2.07365389],\n",
       "       [2.03718231],\n",
       "       [1.92192467],\n",
       "       [2.14824229],\n",
       "       [2.05837104],\n",
       "       [2.18670465],\n",
       "       [2.04853053],\n",
       "       [2.08464923],\n",
       "       [2.03082186],\n",
       "       [2.17634007],\n",
       "       [2.01936162],\n",
       "       [2.35886123],\n",
       "       [1.92760847],\n",
       "       [2.05120075],\n",
       "       [2.01413524],\n",
       "       [2.00500262],\n",
       "       [1.98566515],\n",
       "       [2.08609943],\n",
       "       [2.09416847],\n",
       "       [2.21961121],\n",
       "       [2.03069984],\n",
       "       [2.10557278],\n",
       "       [2.19971544],\n",
       "       [2.31820178],\n",
       "       [2.06565598],\n",
       "       [2.06981343],\n",
       "       [2.29339882],\n",
       "       [2.18183896],\n",
       "       [1.84942658],\n",
       "       [2.19838347],\n",
       "       [2.00131714],\n",
       "       [2.22137399],\n",
       "       [1.93099425],\n",
       "       [2.25410259],\n",
       "       [2.08854875],\n",
       "       [2.07159635],\n",
       "       [2.03820591],\n",
       "       [2.04631928],\n",
       "       [1.95378992],\n",
       "       [1.85906912],\n",
       "       [2.27766278],\n",
       "       [2.05616211],\n",
       "       [2.0788398 ],\n",
       "       [2.20431799],\n",
       "       [2.11024397],\n",
       "       [2.00192681],\n",
       "       [1.82109401],\n",
       "       [2.02910824],\n",
       "       [2.00105406],\n",
       "       [2.09223403],\n",
       "       [2.11485013],\n",
       "       [2.11676332],\n",
       "       [2.02455062],\n",
       "       [1.99470843],\n",
       "       [2.19106888],\n",
       "       [2.19375186],\n",
       "       [1.99903235],\n",
       "       [2.11123021],\n",
       "       [2.46358906],\n",
       "       [2.04842648],\n",
       "       [1.97938675],\n",
       "       [2.01292284],\n",
       "       [2.0763278 ],\n",
       "       [2.19229235],\n",
       "       [2.14050105],\n",
       "       [1.88679411],\n",
       "       [2.30208083],\n",
       "       [2.28772246],\n",
       "       [2.12421224],\n",
       "       [2.08784656],\n",
       "       [2.15831373],\n",
       "       [2.11381493],\n",
       "       [2.03435029],\n",
       "       [1.94813965],\n",
       "       [2.07921601],\n",
       "       [2.13724041],\n",
       "       [2.18547193],\n",
       "       [2.09003173],\n",
       "       [2.03932178],\n",
       "       [1.95537014],\n",
       "       [2.22478596],\n",
       "       [2.12901792],\n",
       "       [2.04709382],\n",
       "       [2.22239799],\n",
       "       [1.91468282],\n",
       "       [2.14738762],\n",
       "       [2.13633781],\n",
       "       [1.89237318],\n",
       "       [1.89817978],\n",
       "       [1.93287567],\n",
       "       [1.91043961],\n",
       "       [2.12242295],\n",
       "       [2.08788451],\n",
       "       [2.04448278],\n",
       "       [1.99569282],\n",
       "       [2.03002444],\n",
       "       [2.20114422],\n",
       "       [2.13337532],\n",
       "       [2.14866037],\n",
       "       [2.2433249 ],\n",
       "       [2.26264966],\n",
       "       [2.20725682],\n",
       "       [2.13607608],\n",
       "       [2.26366694],\n",
       "       [2.06436752],\n",
       "       [2.18309333],\n",
       "       [2.02535568],\n",
       "       [1.98137762],\n",
       "       [2.05039744],\n",
       "       [2.11969027],\n",
       "       [2.14846181],\n",
       "       [2.17235948],\n",
       "       [2.34881778],\n",
       "       [2.06167808],\n",
       "       [2.11787968],\n",
       "       [2.16077581],\n",
       "       [2.18624473],\n",
       "       [2.24223577],\n",
       "       [2.13431737],\n",
       "       [2.0536797 ],\n",
       "       [2.18431701],\n",
       "       [2.29413474],\n",
       "       [2.0316216 ],\n",
       "       [1.89213424],\n",
       "       [2.16130754],\n",
       "       [2.15221598],\n",
       "       [2.27009687],\n",
       "       [2.36234452],\n",
       "       [2.25333821],\n",
       "       [2.08449732],\n",
       "       [2.2328691 ],\n",
       "       [1.97108519],\n",
       "       [2.05462231],\n",
       "       [1.95857888],\n",
       "       [1.99695826],\n",
       "       [2.35440826],\n",
       "       [2.1986753 ],\n",
       "       [2.24850035],\n",
       "       [2.15690975],\n",
       "       [2.07836857],\n",
       "       [2.00436245],\n",
       "       [2.33103881],\n",
       "       [2.1315213 ],\n",
       "       [2.36443461],\n",
       "       [1.97584104],\n",
       "       [2.323221  ],\n",
       "       [2.15244781],\n",
       "       [2.03222755],\n",
       "       [2.09277884],\n",
       "       [2.00347502],\n",
       "       [2.12450961],\n",
       "       [2.14965611],\n",
       "       [1.99525097],\n",
       "       [2.21579546],\n",
       "       [2.0621658 ],\n",
       "       [2.00762723],\n",
       "       [1.92764492],\n",
       "       [2.13912531],\n",
       "       [2.12220426],\n",
       "       [2.07148454],\n",
       "       [2.20518524],\n",
       "       [2.26969103],\n",
       "       [2.13247232],\n",
       "       [2.08162168],\n",
       "       [2.11082962],\n",
       "       [2.09227832],\n",
       "       [1.96717338],\n",
       "       [2.03852999],\n",
       "       [2.23121176],\n",
       "       [2.0738999 ],\n",
       "       [1.93730538],\n",
       "       [1.96623573],\n",
       "       [2.18838644],\n",
       "       [2.06241603],\n",
       "       [2.09315681],\n",
       "       [1.93335161],\n",
       "       [2.08033746],\n",
       "       [2.09857497],\n",
       "       [2.17366566],\n",
       "       [1.99227846],\n",
       "       [1.99323956],\n",
       "       [2.12080322],\n",
       "       [2.07166722],\n",
       "       [2.33906155],\n",
       "       [1.9320312 ],\n",
       "       [1.89575529],\n",
       "       [2.19768626],\n",
       "       [2.00061162],\n",
       "       [2.37201782],\n",
       "       [2.15721743],\n",
       "       [2.34690321],\n",
       "       [2.08180115],\n",
       "       [2.08343781],\n",
       "       [2.10168971],\n",
       "       [2.0186436 ],\n",
       "       [1.99300493],\n",
       "       [2.03299096],\n",
       "       [2.08419225],\n",
       "       [2.12695024],\n",
       "       [2.03895041],\n",
       "       [2.11291314],\n",
       "       [2.01330947],\n",
       "       [1.97367093],\n",
       "       [2.00034763],\n",
       "       [2.01253676],\n",
       "       [2.18758965],\n",
       "       [2.06006642],\n",
       "       [2.12800969],\n",
       "       [2.07042623],\n",
       "       [2.05973914],\n",
       "       [2.22564736],\n",
       "       [2.00783449],\n",
       "       [2.23572731],\n",
       "       [2.04622339],\n",
       "       [1.96928854],\n",
       "       [2.34300405],\n",
       "       [2.20949523],\n",
       "       [2.03581086],\n",
       "       [2.02684189],\n",
       "       [1.915229  ],\n",
       "       [2.24566618],\n",
       "       [2.31007411],\n",
       "       [2.30399584],\n",
       "       [1.93077187],\n",
       "       [2.24607004],\n",
       "       [2.14596939],\n",
       "       [2.21726418],\n",
       "       [1.87901452],\n",
       "       [2.0970687 ],\n",
       "       [1.9300405 ],\n",
       "       [2.08700037],\n",
       "       [2.19994367],\n",
       "       [2.14359067],\n",
       "       [2.02787805],\n",
       "       [2.07250452],\n",
       "       [2.11714293],\n",
       "       [2.17200763],\n",
       "       [2.28903097],\n",
       "       [2.32157354],\n",
       "       [2.02453212],\n",
       "       [1.97457941],\n",
       "       [2.25969368],\n",
       "       [1.97084402],\n",
       "       [2.11343394],\n",
       "       [2.02758123],\n",
       "       [2.16843044],\n",
       "       [2.16926273],\n",
       "       [2.0279611 ],\n",
       "       [2.16634527],\n",
       "       [2.30886579],\n",
       "       [2.05413999],\n",
       "       [2.04613709],\n",
       "       [1.99650618],\n",
       "       [1.92470787],\n",
       "       [2.19957917],\n",
       "       [1.99326225],\n",
       "       [2.07851214],\n",
       "       [2.10761779],\n",
       "       [2.0943951 ],\n",
       "       [2.11056449],\n",
       "       [2.01308415],\n",
       "       [1.90351805],\n",
       "       [2.07278828],\n",
       "       [2.11002754],\n",
       "       [2.1286291 ],\n",
       "       [2.08836766],\n",
       "       [2.13338876],\n",
       "       [2.24385638],\n",
       "       [1.98506648],\n",
       "       [1.8571952 ],\n",
       "       [2.1321549 ],\n",
       "       [2.15437014],\n",
       "       [2.17597747],\n",
       "       [2.15023308],\n",
       "       [2.09456864],\n",
       "       [2.33829339],\n",
       "       [2.2145294 ],\n",
       "       [2.12723791],\n",
       "       [2.02525955],\n",
       "       [2.07814783],\n",
       "       [2.10328028],\n",
       "       [2.03321426],\n",
       "       [2.09216031],\n",
       "       [2.1830755 ],\n",
       "       [1.93347754],\n",
       "       [2.00506452],\n",
       "       [1.94296962],\n",
       "       [2.07874917],\n",
       "       [1.94363394],\n",
       "       [2.07631762],\n",
       "       [2.1985236 ],\n",
       "       [2.23421018],\n",
       "       [2.05276116],\n",
       "       [2.10143836],\n",
       "       [2.17302729],\n",
       "       [2.11224767],\n",
       "       [2.19769714],\n",
       "       [2.25136801],\n",
       "       [2.01126262],\n",
       "       [2.27905763],\n",
       "       [1.95338333],\n",
       "       [1.93459793],\n",
       "       [2.10640307],\n",
       "       [2.07252489],\n",
       "       [2.18438266],\n",
       "       [2.06461503],\n",
       "       [2.19963041],\n",
       "       [2.07643122],\n",
       "       [1.93102264],\n",
       "       [2.05691958],\n",
       "       [2.23398222],\n",
       "       [1.95213784],\n",
       "       [2.12478746],\n",
       "       [2.08435948],\n",
       "       [1.91187681],\n",
       "       [1.97601687],\n",
       "       [2.17496963],\n",
       "       [1.98351515],\n",
       "       [2.15654684],\n",
       "       [1.92385723],\n",
       "       [2.12174395],\n",
       "       [2.13915737],\n",
       "       [2.02185745],\n",
       "       [1.9657229 ],\n",
       "       [2.15756701],\n",
       "       [1.89317278],\n",
       "       [2.01372181],\n",
       "       [2.09223792],\n",
       "       [1.98288463],\n",
       "       [1.95359345],\n",
       "       [1.99037788],\n",
       "       [2.17061888],\n",
       "       [1.77181987],\n",
       "       [1.9733604 ],\n",
       "       [1.99134416],\n",
       "       [2.03237028],\n",
       "       [1.9999368 ],\n",
       "       [2.00493741],\n",
       "       [1.98979787],\n",
       "       [2.16222811],\n",
       "       [1.94709884],\n",
       "       [2.24958055],\n",
       "       [2.22345878]])"
      ]
     },
     "execution_count": 17,
     "metadata": {
      "tags": []
     },
     "output_type": "execute_result"
    }
   ],
   "source": [
    "x"
   ]
  },
  {
   "cell_type": "markdown",
   "metadata": {
    "colab_type": "text",
    "id": "kz9aIa22Z9t2"
   },
   "source": [
    "![alt text](https://wikimedia.org/api/rest_v1/media/math/render/svg/4abaca87a10ecfa77b5a205056523706fe6c9c3f)"
   ]
  },
  {
   "cell_type": "code",
   "execution_count": 0,
   "metadata": {
    "colab": {},
    "colab_type": "code",
    "id": "3RtI2IX_YZsy"
   },
   "outputs": [],
   "source": [
    "def normal_pdf(x,mu,sigma): #defines the normal pdf\n",
    "  \n",
    "  return (1/(np.sqrt(2*np.pi*sigma**2)))*np.exp((-(x-mu)**2)/(2*sigma**2))"
   ]
  },
  {
   "cell_type": "code",
   "execution_count": 0,
   "metadata": {
    "colab": {},
    "colab_type": "code",
    "id": "vg0kefygag1y"
   },
   "outputs": [],
   "source": [
    "x = np.linspace(-4,4,100)"
   ]
  },
  {
   "cell_type": "code",
   "execution_count": 0,
   "metadata": {
    "colab": {},
    "colab_type": "code",
    "id": "WJoBzkgpnBPR"
   },
   "outputs": [],
   "source": [
    "mu = 2.1"
   ]
  },
  {
   "cell_type": "code",
   "execution_count": 0,
   "metadata": {
    "colab": {},
    "colab_type": "code",
    "id": "c1_jrDvenFrM"
   },
   "outputs": [],
   "source": [
    "sigma = 0.12"
   ]
  },
  {
   "cell_type": "code",
   "execution_count": 0,
   "metadata": {
    "colab": {},
    "colab_type": "code",
    "id": "YGwLkYgenTCF"
   },
   "outputs": [],
   "source": [
    "y = normal_pdf(x,mu,sigma)"
   ]
  },
  {
   "cell_type": "code",
   "execution_count": 23,
   "metadata": {
    "colab": {
     "base_uri": "https://localhost:8080/",
     "height": 364
    },
    "colab_type": "code",
    "executionInfo": {
     "elapsed": 2423,
     "status": "ok",
     "timestamp": 1554689527277,
     "user": {
      "displayName": "Tristan Irons",
      "photoUrl": "",
      "userId": "06363254473347900275"
     },
     "user_tz": 240
    },
    "id": "cxKTq_qtagyI",
    "outputId": "23f459a4-cff7-4537-dc71-02819a199073"
   },
   "outputs": [
    {
     "data": {
      "text/plain": [
       "[<matplotlib.lines.Line2D at 0x7fba85ebda58>]"
      ]
     },
     "execution_count": 23,
     "metadata": {
      "tags": []
     },
     "output_type": "execute_result"
    },
    {
     "data": {
      "image/png": "[encoded data removed]",
      "text/plain": [
       "<Figure size 576x396 with 1 Axes>"
      ]
     },
     "metadata": {
      "tags": []
     },
     "output_type": "display_data"
    }
   ],
   "source": [
    "plt.plot(x,y) #normal distribution curve centered around mu with a modifier of sigma"
   ]
  },
  {
   "cell_type": "code",
   "execution_count": 0,
   "metadata": {
    "colab": {},
    "colab_type": "code",
    "id": "Zul-032onmLo"
   },
   "outputs": [],
   "source": [
    "S = sigma * np.random.randn(1,10) + mu"
   ]
  },
  {
   "cell_type": "code",
   "execution_count": 25,
   "metadata": {
    "colab": {
     "base_uri": "https://localhost:8080/",
     "height": 51
    },
    "colab_type": "code",
    "executionInfo": {
     "elapsed": 2410,
     "status": "ok",
     "timestamp": 1554689527282,
     "user": {
      "displayName": "Tristan Irons",
      "photoUrl": "",
      "userId": "06363254473347900275"
     },
     "user_tz": 240
    },
    "id": "Co5yUWMantTg",
    "outputId": "0743ee73-97c4-4cce-bbdb-9905774a9769"
   },
   "outputs": [
    {
     "data": {
      "text/plain": [
       "array([[2.71685546, 2.87690582, 2.24456038, 2.64700516, 0.78204509,\n",
       "        1.85876149, 0.84835037, 2.80515602, 2.56158483, 1.61304267]])"
      ]
     },
     "execution_count": 25,
     "metadata": {
      "tags": []
     },
     "output_type": "execute_result"
    }
   ],
   "source": [
    "normal_pdf(S,mu,sigma)"
   ]
  },
  {
   "cell_type": "code",
   "execution_count": 26,
   "metadata": {
    "colab": {
     "base_uri": "https://localhost:8080/",
     "height": 34
    },
    "colab_type": "code",
    "executionInfo": {
     "elapsed": 2402,
     "status": "ok",
     "timestamp": 1554689527284,
     "user": {
      "displayName": "Tristan Irons",
      "photoUrl": "",
      "userId": "06363254473347900275"
     },
     "user_tz": 240
    },
    "id": "DqoXnneuntPi",
    "outputId": "018bc4ef-7c01-4c66-83cd-79c1b4c61ee4"
   },
   "outputs": [
    {
     "data": {
      "text/plain": [
       "663.7745474677668"
      ]
     },
     "execution_count": 26,
     "metadata": {
      "tags": []
     },
     "output_type": "execute_result"
    }
   ],
   "source": [
    "np.prod(normal_pdf(S,mu,sigma))"
   ]
  },
  {
   "cell_type": "code",
   "execution_count": 0,
   "metadata": {
    "colab": {},
    "colab_type": "code",
    "id": "_x19SmBfntLq"
   },
   "outputs": [],
   "source": []
  },
  {
   "cell_type": "code",
   "execution_count": 0,
   "metadata": {
    "colab": {},
    "colab_type": "code",
    "id": "020aiFRiDDBp"
   },
   "outputs": [],
   "source": [
    "mu = 1"
   ]
  },
  {
   "cell_type": "code",
   "execution_count": 0,
   "metadata": {
    "colab": {},
    "colab_type": "code",
    "id": "_5x9qWzvazoM"
   },
   "outputs": [],
   "source": [
    "sigma = 1"
   ]
  },
  {
   "cell_type": "code",
   "execution_count": 29,
   "metadata": {
    "colab": {
     "base_uri": "https://localhost:8080/",
     "height": 364
    },
    "colab_type": "code",
    "executionInfo": {
     "elapsed": 2720,
     "status": "ok",
     "timestamp": 1554689527647,
     "user": {
      "displayName": "Tristan Irons",
      "photoUrl": "",
      "userId": "06363254473347900275"
     },
     "user_tz": 240
    },
    "id": "oIxLWAcaazzM",
    "outputId": "c4964701-1880-41f5-ca8b-36435236d417"
   },
   "outputs": [
    {
     "data": {
      "text/plain": [
       "[<matplotlib.lines.Line2D at 0x7fba85f0da90>]"
      ]
     },
     "execution_count": 29,
     "metadata": {
      "tags": []
     },
     "output_type": "execute_result"
    },
    {
     "data": {
      "image/png": "[encoded data removed]",
      "text/plain": [
       "<Figure size 576x396 with 1 Axes>"
      ]
     },
     "metadata": {
      "tags": []
     },
     "output_type": "display_data"
    }
   ],
   "source": [
    "plt.plot(x,y)"
   ]
  },
  {
   "cell_type": "code",
   "execution_count": 0,
   "metadata": {
    "colab": {},
    "colab_type": "code",
    "id": "qcYBNLWda-VV"
   },
   "outputs": [],
   "source": [
    "S = sigma * np.random.randn(1,10) + mu"
   ]
  },
  {
   "cell_type": "code",
   "execution_count": 31,
   "metadata": {
    "colab": {
     "base_uri": "https://localhost:8080/",
     "height": 51
    },
    "colab_type": "code",
    "executionInfo": {
     "elapsed": 2715,
     "status": "ok",
     "timestamp": 1554689527659,
     "user": {
      "displayName": "Tristan Irons",
      "photoUrl": "",
      "userId": "06363254473347900275"
     },
     "user_tz": 240
    },
    "id": "k3eo1fFwa-du",
    "outputId": "a5809b8f-7295-4f3c-fca3-bbd082106b80"
   },
   "outputs": [
    {
     "data": {
      "text/plain": [
       "array([[0.39005615, 0.33210105, 0.39378249, 0.37424691, 0.33485719,\n",
       "        0.17489811, 0.31416544, 0.11074711, 0.25672682, 0.34582544]])"
      ]
     },
     "execution_count": 31,
     "metadata": {
      "tags": []
     },
     "output_type": "execute_result"
    }
   ],
   "source": [
    "normal_pdf(S,mu,sigma)"
   ]
  },
  {
   "cell_type": "code",
   "execution_count": 32,
   "metadata": {
    "colab": {
     "base_uri": "https://localhost:8080/",
     "height": 34
    },
    "colab_type": "code",
    "executionInfo": {
     "elapsed": 2705,
     "status": "ok",
     "timestamp": 1554689527660,
     "user": {
      "displayName": "Tristan Irons",
      "photoUrl": "",
      "userId": "06363254473347900275"
     },
     "user_tz": 240
    },
    "id": "YdR5yzlla-PM",
    "outputId": "3f98f9be-0232-4bbc-9b8c-973312e0c88f"
   },
   "outputs": [
    {
     "data": {
      "text/plain": [
       "3.4536293152520457e-06"
      ]
     },
     "execution_count": 32,
     "metadata": {
      "tags": []
     },
     "output_type": "execute_result"
    }
   ],
   "source": [
    "np.prod(normal_pdf(S,mu,sigma))"
   ]
  },
  {
   "cell_type": "code",
   "execution_count": 0,
   "metadata": {
    "colab": {},
    "colab_type": "code",
    "id": "53O9vvrEcRcT"
   },
   "outputs": [],
   "source": [
    "def normal_likelihood(S,mu,sigma):\n",
    "  \n",
    "  return np.prod(normal_pdf(S,mu,sigma))"
   ]
  },
  {
   "cell_type": "code",
   "execution_count": 0,
   "metadata": {
    "colab": {},
    "colab_type": "code",
    "id": "24wEweTIa-ke"
   },
   "outputs": [],
   "source": [
    "start = -5\n",
    "stop = 5\n",
    "step = 0.1\n",
    "\n",
    "L = []\n",
    "\n",
    "for m in np.arange(start,stop,step):\n",
    "  \n",
    "  L.append((m,normal_likelihood(S,m,sigma)))"
   ]
  },
  {
   "cell_type": "code",
   "execution_count": 0,
   "metadata": {
    "colab": {},
    "colab_type": "code",
    "id": "7Fc3glWka-r_"
   },
   "outputs": [],
   "source": [
    "L = np.asarray(L)"
   ]
  },
  {
   "cell_type": "code",
   "execution_count": 36,
   "metadata": {
    "colab": {
     "base_uri": "https://localhost:8080/",
     "height": 34
    },
    "colab_type": "code",
    "executionInfo": {
     "elapsed": 2666,
     "status": "ok",
     "timestamp": 1554689527673,
     "user": {
      "displayName": "Tristan Irons",
      "photoUrl": "",
      "userId": "06363254473347900275"
     },
     "user_tz": 240
    },
    "id": "MCVLvEbgckhj",
    "outputId": "d8514452-33da-4de3-8a39-c35a1a28b236"
   },
   "outputs": [
    {
     "data": {
      "text/plain": [
       "(100, 2)"
      ]
     },
     "execution_count": 36,
     "metadata": {
      "tags": []
     },
     "output_type": "execute_result"
    }
   ],
   "source": [
    "L.shape"
   ]
  },
  {
   "cell_type": "code",
   "execution_count": 37,
   "metadata": {
    "colab": {
     "base_uri": "https://localhost:8080/",
     "height": 364
    },
    "colab_type": "code",
    "executionInfo": {
     "elapsed": 2855,
     "status": "ok",
     "timestamp": 1554689527874,
     "user": {
      "displayName": "Tristan Irons",
      "photoUrl": "",
      "userId": "06363254473347900275"
     },
     "user_tz": 240
    },
    "id": "R1TxOLs1ckwu",
    "outputId": "a24cbae5-b9a3-4fd5-90e9-1e77ffad9ecb"
   },
   "outputs": [
    {
     "data": {
      "text/plain": [
       "[<matplotlib.lines.Line2D at 0x7fba880337f0>]"
      ]
     },
     "execution_count": 37,
     "metadata": {
      "tags": []
     },
     "output_type": "execute_result"
    },
    {
     "data": {
      "image/png": "[encoded data removed]",
      "text/plain": [
       "<Figure size 576x396 with 1 Axes>"
      ]
     },
     "metadata": {
      "tags": []
     },
     "output_type": "display_data"
    }
   ],
   "source": [
    "plt.plot(L[:,0],L[:,1])"
   ]
  },
  {
   "cell_type": "code",
   "execution_count": 38,
   "metadata": {
    "colab": {
     "base_uri": "https://localhost:8080/",
     "height": 34
    },
    "colab_type": "code",
    "executionInfo": {
     "elapsed": 2846,
     "status": "ok",
     "timestamp": 1554689527875,
     "user": {
      "displayName": "Tristan Irons",
      "photoUrl": "",
      "userId": "06363254473347900275"
     },
     "user_tz": 240
    },
    "id": "9HMjdpdqqg6R",
    "outputId": "54c58e10-fec0-4384-e94c-5b53c29a84fb"
   },
   "outputs": [
    {
     "data": {
      "text/plain": [
       "61"
      ]
     },
     "execution_count": 38,
     "metadata": {
      "tags": []
     },
     "output_type": "execute_result"
    }
   ],
   "source": [
    "np.argmax(L[:,1])"
   ]
  },
  {
   "cell_type": "code",
   "execution_count": 39,
   "metadata": {
    "colab": {
     "base_uri": "https://localhost:8080/",
     "height": 34
    },
    "colab_type": "code",
    "executionInfo": {
     "elapsed": 2825,
     "status": "ok",
     "timestamp": 1554689527876,
     "user": {
      "displayName": "Tristan Irons",
      "photoUrl": "",
      "userId": "06363254473347900275"
     },
     "user_tz": 240
    },
    "id": "7QGGXU8bqm66",
    "outputId": "492f047b-ee7a-429c-817e-32213f1fc92c"
   },
   "outputs": [
    {
     "data": {
      "text/plain": [
       "2.0999999999999748"
      ]
     },
     "execution_count": 39,
     "metadata": {
      "tags": []
     },
     "output_type": "execute_result"
    }
   ],
   "source": [
    "L[71,0]"
   ]
  },
  {
   "cell_type": "code",
   "execution_count": 0,
   "metadata": {
    "colab": {},
    "colab_type": "code",
    "id": "i94QiuXPq3rq"
   },
   "outputs": [],
   "source": [
    "mu = 1.123\n",
    "sigma = 0.123"
   ]
  },
  {
   "cell_type": "code",
   "execution_count": 0,
   "metadata": {
    "colab": {},
    "colab_type": "code",
    "id": "NLwRkbPrq3n0"
   },
   "outputs": [],
   "source": [
    "S = sigma * np.random.randn(1,100) + mu"
   ]
  },
  {
   "cell_type": "code",
   "execution_count": 0,
   "metadata": {
    "colab": {},
    "colab_type": "code",
    "id": "6_HF1Uo3q3kE"
   },
   "outputs": [],
   "source": [
    "mu = np.linspace(-4,4,1000)\n",
    "sigma = np.linspace(-4,4,1000)"
   ]
  },
  {
   "cell_type": "code",
   "execution_count": 0,
   "metadata": {
    "colab": {},
    "colab_type": "code",
    "id": "_FIHgsdfrXI9"
   },
   "outputs": [],
   "source": [
    "L = np.zeros ((mu.shape[0],sigma.shape[0]))\n",
    "for i in range(mu.shape[0]):\n",
    "  for j in range(sigma.shape[0]):\n",
    "    L[i,j] = normal_likelihood(S,mu[i],sigma[j])"
   ]
  },
  {
   "cell_type": "code",
   "execution_count": 0,
   "metadata": {
    "colab": {},
    "colab_type": "code",
    "id": "FRpRU8A8sOje"
   },
   "outputs": [],
   "source": [
    "def plot(x): #graphs the pdf\n",
    "  fig, ax = plt.subplots()\n",
    "  im = ax.imshow(x,cmap=plt.get_cmap('cool'))\n",
    "  plt.show"
   ]
  },
  {
   "cell_type": "code",
   "execution_count": 45,
   "metadata": {
    "colab": {
     "base_uri": "https://localhost:8080/",
     "height": 351
    },
    "colab_type": "code",
    "executionInfo": {
     "elapsed": 18583,
     "status": "ok",
     "timestamp": 1554689543702,
     "user": {
      "displayName": "Tristan Irons",
      "photoUrl": "",
      "userId": "06363254473347900275"
     },
     "user_tz": 240
    },
    "id": "14mJPZ2Ls_Xa",
    "outputId": "d4319f1c-f336-44a4-84bb-70e28eaba4cb"
   },
   "outputs": [
    {
     "data": {
      "image/png": "[encoded data removed]",
      "text/plain": [
       "<Figure size 576x396 with 1 Axes>"
      ]
     },
     "metadata": {
      "tags": []
     },
     "output_type": "display_data"
    }
   ],
   "source": [
    "plot(L)"
   ]
  },
  {
   "cell_type": "code",
   "execution_count": 46,
   "metadata": {
    "colab": {
     "base_uri": "https://localhost:8080/",
     "height": 34
    },
    "colab_type": "code",
    "executionInfo": {
     "elapsed": 18571,
     "status": "ok",
     "timestamp": 1554689543703,
     "user": {
      "displayName": "Tristan Irons",
      "photoUrl": "",
      "userId": "06363254473347900275"
     },
     "user_tz": 240
    },
    "id": "N2Iw1MBwrXQL",
    "outputId": "c1731873-6a85-4273-9913-0cc47b5ff7f3"
   },
   "outputs": [
    {
     "data": {
      "text/plain": [
       "643484"
      ]
     },
     "execution_count": 46,
     "metadata": {
      "tags": []
     },
     "output_type": "execute_result"
    }
   ],
   "source": [
    "np.argmax(L)"
   ]
  },
  {
   "cell_type": "code",
   "execution_count": 47,
   "metadata": {
    "colab": {
     "base_uri": "https://localhost:8080/",
     "height": 34
    },
    "colab_type": "code",
    "executionInfo": {
     "elapsed": 18552,
     "status": "ok",
     "timestamp": 1554689543704,
     "user": {
      "displayName": "Tristan Irons",
      "photoUrl": "",
      "userId": "06363254473347900275"
     },
     "user_tz": 240
    },
    "id": "q9A5G3p7rXY7",
    "outputId": "fb7b7e5a-744f-480e-fb78-c88ce1713f95"
   },
   "outputs": [
    {
     "data": {
      "text/plain": [
       "(643, 484)"
      ]
     },
     "execution_count": 47,
     "metadata": {
      "tags": []
     },
     "output_type": "execute_result"
    }
   ],
   "source": [
    "np.unravel_index(np.argmax(L), L.shape)"
   ]
  },
  {
   "cell_type": "code",
   "execution_count": 48,
   "metadata": {
    "colab": {
     "base_uri": "https://localhost:8080/",
     "height": 34
    },
    "colab_type": "code",
    "executionInfo": {
     "elapsed": 18544,
     "status": "ok",
     "timestamp": 1554689543706,
     "user": {
      "displayName": "Tristan Irons",
      "photoUrl": "",
      "userId": "06363254473347900275"
     },
     "user_tz": 240
    },
    "id": "vPlbVn-yrXf2",
    "outputId": "33f73410-3f88-4de9-e03b-d7e1dc2f44ef"
   },
   "outputs": [
    {
     "data": {
      "text/plain": [
       "2.973311126940424e+27"
      ]
     },
     "execution_count": 48,
     "metadata": {
      "tags": []
     },
     "output_type": "execute_result"
    }
   ],
   "source": [
    "L[639,485]"
   ]
  },
  {
   "cell_type": "code",
   "execution_count": 49,
   "metadata": {
    "colab": {
     "base_uri": "https://localhost:8080/",
     "height": 34
    },
    "colab_type": "code",
    "executionInfo": {
     "elapsed": 18533,
     "status": "ok",
     "timestamp": 1554689543707,
     "user": {
      "displayName": "Tristan Irons",
      "photoUrl": "",
      "userId": "06363254473347900275"
     },
     "user_tz": 240
    },
    "id": "QpsWY48OtpBN",
    "outputId": "ae82932a-78fc-4433-8fd1-79e3fb5ae038"
   },
   "outputs": [
    {
     "data": {
      "text/plain": [
       "1.1171171171171173"
      ]
     },
     "execution_count": 49,
     "metadata": {
      "tags": []
     },
     "output_type": "execute_result"
    }
   ],
   "source": [
    "mu[639]"
   ]
  },
  {
   "cell_type": "code",
   "execution_count": 50,
   "metadata": {
    "colab": {
     "base_uri": "https://localhost:8080/",
     "height": 34
    },
    "colab_type": "code",
    "executionInfo": {
     "elapsed": 18520,
     "status": "ok",
     "timestamp": 1554689543709,
     "user": {
      "displayName": "Tristan Irons",
      "photoUrl": "",
      "userId": "06363254473347900275"
     },
     "user_tz": 240
    },
    "id": "6tCLZJKVtpIv",
    "outputId": "dfcb7a30-4851-428f-92e6-bd9e7a2c5503"
   },
   "outputs": [
    {
     "data": {
      "text/plain": [
       "-0.11611611611611616"
      ]
     },
     "execution_count": 50,
     "metadata": {
      "tags": []
     },
     "output_type": "execute_result"
    }
   ],
   "source": [
    "sigma[485]"
   ]
  },
  {
   "cell_type": "code",
   "execution_count": 51,
   "metadata": {
    "colab": {
     "base_uri": "https://localhost:8080/",
     "height": 34
    },
    "colab_type": "code",
    "executionInfo": {
     "elapsed": 18735,
     "status": "ok",
     "timestamp": 1554689543934,
     "user": {
      "displayName": "Tristan Irons",
      "photoUrl": "",
      "userId": "06363254473347900275"
     },
     "user_tz": 240
    },
    "id": "WNO9ykmztpRj",
    "outputId": "06f1e118-6172-432e-deab-bb7727cd68fc"
   },
   "outputs": [
    {
     "data": {
      "text/plain": [
       "3.2862601528904633e-16"
      ]
     },
     "execution_count": 51,
     "metadata": {
      "tags": []
     },
     "output_type": "execute_result"
    }
   ],
   "source": [
    "np.mean(x)"
   ]
  },
  {
   "cell_type": "code",
   "execution_count": 0,
   "metadata": {
    "colab": {},
    "colab_type": "code",
    "id": "VLypwMUBtVxO"
   },
   "outputs": [],
   "source": []
  },
  {
   "cell_type": "code",
   "execution_count": 0,
   "metadata": {
    "colab": {},
    "colab_type": "code",
    "id": "cDVZU70I_HUa"
   },
   "outputs": [],
   "source": [
    "import numpy as np\n",
    "import matplotlib.pyplot as plt"
   ]
  },
  {
   "cell_type": "code",
   "execution_count": 0,
   "metadata": {
    "colab": {},
    "colab_type": "code",
    "id": "IJyaEHRTWMGP"
   },
   "outputs": [],
   "source": [
    "#CDF PDF f is actually p"
   ]
  },
  {
   "cell_type": "markdown",
   "metadata": {
    "colab_type": "text",
    "id": "e0DJJ__VSSL5"
   },
   "source": [
    "![alt text](https://wikimedia.org/api/rest_v1/media/math/render/svg/4abaca87a10ecfa77b5a205056523706fe6c9c3f)"
   ]
  },
  {
   "cell_type": "code",
   "execution_count": 0,
   "metadata": {
    "colab": {},
    "colab_type": "code",
    "id": "YWN3Rd3sWMI0"
   },
   "outputs": [],
   "source": [
    "def normal_pdf(x,mu,sigma): #function based pdf\n",
    "  \n",
    "  return (1/(np.sqrt(2*np.pi*sigma**2)))*np.exp((-(x-mu)**2)/(2*sigma**2))"
   ]
  },
  {
   "cell_type": "code",
   "execution_count": 0,
   "metadata": {
    "colab": {},
    "colab_type": "code",
    "id": "4MZ8kxXTS3bR"
   },
   "outputs": [],
   "source": [
    "x = np.linspace(-6,6,10000)"
   ]
  },
  {
   "cell_type": "code",
   "execution_count": 0,
   "metadata": {
    "colab": {},
    "colab_type": "code",
    "id": "F_cmiLYAS8hZ"
   },
   "outputs": [],
   "source": [
    "mu = 0"
   ]
  },
  {
   "cell_type": "code",
   "execution_count": 0,
   "metadata": {
    "colab": {},
    "colab_type": "code",
    "id": "jKdTIUNPS9jJ"
   },
   "outputs": [],
   "source": [
    "sigma = 1"
   ]
  },
  {
   "cell_type": "code",
   "execution_count": 0,
   "metadata": {
    "colab": {},
    "colab_type": "code",
    "id": "28qQju1aS-ax"
   },
   "outputs": [],
   "source": [
    "pdf = normal_pdf(x,mu,sigma)"
   ]
  },
  {
   "cell_type": "code",
   "execution_count": 59,
   "metadata": {
    "colab": {
     "base_uri": "https://localhost:8080/",
     "height": 364
    },
    "colab_type": "code",
    "executionInfo": {
     "elapsed": 18841,
     "status": "ok",
     "timestamp": 1554689544152,
     "user": {
      "displayName": "Tristan Irons",
      "photoUrl": "",
      "userId": "06363254473347900275"
     },
     "user_tz": 240
    },
    "id": "TibHDPeHTj_n",
    "outputId": "cae3a1fe-93ee-4354-b89a-47b9ad5431ca"
   },
   "outputs": [
    {
     "data": {
      "text/plain": [
       "[<matplotlib.lines.Line2D at 0x7fba880d34a8>]"
      ]
     },
     "execution_count": 59,
     "metadata": {
      "tags": []
     },
     "output_type": "execute_result"
    },
    {
     "data": {
      "image/png": "[encoded data removed]",
      "text/plain": [
       "<Figure size 576x396 with 1 Axes>"
      ]
     },
     "metadata": {
      "tags": []
     },
     "output_type": "display_data"
    }
   ],
   "source": [
    "plt.plot(x,pdf) #graphs the pdf"
   ]
  },
  {
   "cell_type": "code",
   "execution_count": 0,
   "metadata": {
    "colab": {},
    "colab_type": "code",
    "id": "xUKnG1hQTmxn"
   },
   "outputs": [],
   "source": [
    "def partial_sums(x): #defines the partial sums function\n",
    "  \n",
    "  y = np.zeros(x.shape)\n",
    "  \n",
    "  for n in range(x.shape[0]):\n",
    "    \n",
    "    y[n] = np.sum(x[0:n])\n",
    "    \n",
    "  y = y / np.max(y)\n",
    "  \n",
    "  return y"
   ]
  },
  {
   "cell_type": "code",
   "execution_count": 0,
   "metadata": {
    "colab": {},
    "colab_type": "code",
    "id": "OaWwWxjOVs2E"
   },
   "outputs": [],
   "source": [
    "cdf = partial_sums(pdf) #the cdf is the partial sums of the pdf"
   ]
  },
  {
   "cell_type": "code",
   "execution_count": 62,
   "metadata": {
    "colab": {
     "base_uri": "https://localhost:8080/",
     "height": 364
    },
    "colab_type": "code",
    "executionInfo": {
     "elapsed": 19027,
     "status": "ok",
     "timestamp": 1554689544372,
     "user": {
      "displayName": "Tristan Irons",
      "photoUrl": "",
      "userId": "06363254473347900275"
     },
     "user_tz": 240
    },
    "id": "ruwXb4yvWR7M",
    "outputId": "e1f1e686-bb38-4199-e4ca-f0643ee2426a"
   },
   "outputs": [
    {
     "data": {
      "text/plain": [
       "[<matplotlib.lines.Line2D at 0x7fba88068080>]"
      ]
     },
     "execution_count": 62,
     "metadata": {
      "tags": []
     },
     "output_type": "execute_result"
    },
    {
     "data": {
      "image/png": "[encoded data removed]",
      "text/plain": [
       "<Figure size 576x396 with 1 Axes>"
      ]
     },
     "metadata": {
      "tags": []
     },
     "output_type": "display_data"
    }
   ],
   "source": [
    "plt.plot(x,cdf) #baiscally inverts the pdf function"
   ]
  },
  {
   "cell_type": "code",
   "execution_count": 63,
   "metadata": {
    "colab": {
     "base_uri": "https://localhost:8080/",
     "height": 347
    },
    "colab_type": "code",
    "executionInfo": {
     "elapsed": 19364,
     "status": "ok",
     "timestamp": 1554689544718,
     "user": {
      "displayName": "Tristan Irons",
      "photoUrl": "",
      "userId": "06363254473347900275"
     },
     "user_tz": 240
    },
    "id": "rVzfwVtXXVxU",
    "outputId": "6725bf7b-a2f9-4bc5-8184-55625c09a208"
   },
   "outputs": [
    {
     "data": {
      "image/png": "[encoded data removed]",
      "text/plain": [
       "<Figure size 576x396 with 1 Axes>"
      ]
     },
     "metadata": {
      "tags": []
     },
     "output_type": "display_data"
    }
   ],
   "source": [
    "plt.plot(cdf,x); #inversion of the cdf"
   ]
  },
  {
   "cell_type": "code",
   "execution_count": 0,
   "metadata": {
    "colab": {},
    "colab_type": "code",
    "id": "IEgYFyr8WcxN"
   },
   "outputs": [],
   "source": [
    "xr = np.random.random((10000,))"
   ]
  },
  {
   "cell_type": "code",
   "execution_count": 65,
   "metadata": {
    "colab": {
     "base_uri": "https://localhost:8080/",
     "height": 347
    },
    "colab_type": "code",
    "executionInfo": {
     "elapsed": 19992,
     "status": "ok",
     "timestamp": 1554689545367,
     "user": {
      "displayName": "Tristan Irons",
      "photoUrl": "",
      "userId": "06363254473347900275"
     },
     "user_tz": 240
    },
    "id": "_liDfv6jXuVN",
    "outputId": "f7c59e25-431d-4266-b0ed-83a93841be10"
   },
   "outputs": [
    {
     "data": {
      "image/png": "[encoded data removed]",
      "text/plain": [
       "<Figure size 576x396 with 1 Axes>"
      ]
     },
     "metadata": {
      "tags": []
     },
     "output_type": "display_data"
    }
   ],
   "source": [
    "plt.plot(xr,'.'); #10000 random numbers"
   ]
  },
  {
   "cell_type": "code",
   "execution_count": 66,
   "metadata": {
    "colab": {
     "base_uri": "https://localhost:8080/",
     "height": 347
    },
    "colab_type": "code",
    "executionInfo": {
     "elapsed": 20167,
     "status": "ok",
     "timestamp": 1554689545551,
     "user": {
      "displayName": "Tristan Irons",
      "photoUrl": "",
      "userId": "06363254473347900275"
     },
     "user_tz": 240
    },
    "id": "1GPbGG53XyLV",
    "outputId": "f04b9293-7de1-49a2-fcbd-051bbb6d69a7"
   },
   "outputs": [
    {
     "data": {
      "image/png": "[encoded data removed]",
      "text/plain": [
       "<Figure size 576x396 with 1 Axes>"
      ]
     },
     "metadata": {
      "tags": []
     },
     "output_type": "display_data"
    }
   ],
   "source": [
    "plt.hist(xr); #histogram of the random 10000 numbers"
   ]
  },
  {
   "cell_type": "code",
   "execution_count": 0,
   "metadata": {
    "colab": {},
    "colab_type": "code",
    "id": "kotIPEX2Ycwl"
   },
   "outputs": [],
   "source": [
    "x = np.linspace(-6,6,100) #linspace from -6 to 6 with 100 steps"
   ]
  },
  {
   "cell_type": "code",
   "execution_count": 0,
   "metadata": {
    "colab": {},
    "colab_type": "code",
    "id": "JzV2f_T8Yhcs"
   },
   "outputs": [],
   "source": [
    "xr = np.random.random((10000,))"
   ]
  },
  {
   "cell_type": "code",
   "execution_count": 0,
   "metadata": {
    "colab": {},
    "colab_type": "code",
    "id": "83ZiRTGzZNZH"
   },
   "outputs": [],
   "source": [
    "pdf = normal_pdf(x,mu,sigma)"
   ]
  },
  {
   "cell_type": "code",
   "execution_count": 0,
   "metadata": {
    "colab": {},
    "colab_type": "code",
    "id": "HogHcTNOZRNB"
   },
   "outputs": [],
   "source": [
    "cdf = partial_sums(pdf)"
   ]
  },
  {
   "cell_type": "code",
   "execution_count": 71,
   "metadata": {
    "colab": {
     "base_uri": "https://localhost:8080/",
     "height": 347
    },
    "colab_type": "code",
    "executionInfo": {
     "elapsed": 20136,
     "status": "ok",
     "timestamp": 1554689545567,
     "user": {
      "displayName": "Tristan Irons",
      "photoUrl": "",
      "userId": "06363254473347900275"
     },
     "user_tz": 240
    },
    "id": "9X7Suw6NX_XH",
    "outputId": "baa0b4d1-88a7-4eec-cbb9-04e346aec5be"
   },
   "outputs": [
    {
     "data": {
      "image/png": "[encoded data removed]",
      "text/plain": [
       "<Figure size 576x396 with 1 Axes>"
      ]
     },
     "metadata": {
      "tags": []
     },
     "output_type": "display_data"
    }
   ],
   "source": [
    "plt.plot(x,cdf,'.'); #plots the cdf with 100 steps "
   ]
  },
  {
   "cell_type": "code",
   "execution_count": 0,
   "metadata": {
    "colab": {},
    "colab_type": "code",
    "id": "afwyNKGPYWSm"
   },
   "outputs": [],
   "source": [
    "def find_nearest(array,value): #finds the nearest value in the cdf to the predicted\n",
    "  \n",
    "  idx = np.argmin(np.abs(array -value))\n",
    "  \n",
    "  return idx,array[idx]"
   ]
  },
  {
   "cell_type": "code",
   "execution_count": 73,
   "metadata": {
    "colab": {
     "base_uri": "https://localhost:8080/",
     "height": 442
    },
    "colab_type": "code",
    "executionInfo": {
     "elapsed": 20122,
     "status": "ok",
     "timestamp": 1554689545571,
     "user": {
      "displayName": "Tristan Irons",
      "photoUrl": "",
      "userId": "06363254473347900275"
     },
     "user_tz": 240
    },
    "id": "CF8SkOnbaE8w",
    "outputId": "7bec883d-579e-43e5-c4bc-b7c96e8a9008"
   },
   "outputs": [
    {
     "data": {
      "text/plain": [
       "array([0.00000000e+00, 7.36470650e-10, 2.24938927e-09, 5.31202165e-09,\n",
       "       1.14213484e-08, 2.34304640e-08, 4.66925078e-08, 9.10946475e-08,\n",
       "       1.74612460e-07, 3.29413366e-07, 6.12153248e-07, 1.12103845e-06,\n",
       "       2.02358947e-06, 3.60099324e-06, 6.31764001e-06, 1.09280829e-05,\n",
       "       1.86383835e-05, 3.13446848e-05, 5.19788153e-05, 8.49984583e-05,\n",
       "       1.37067281e-04, 2.17977304e-04, 3.41870104e-04, 5.28813013e-04,\n",
       "       8.06778647e-04, 1.21405800e-03, 1.80210612e-03, 2.63877288e-03,\n",
       "       3.81180891e-03, 5.43245940e-03, 7.63887115e-03, 1.05989477e-02,\n",
       "       1.45122058e-02, 1.96101283e-02, 2.61544879e-02, 3.44331519e-02,\n",
       "       4.47529818e-02, 5.74296173e-02, 7.27741846e-02, 9.10772770e-02,\n",
       "       1.12590896e-01, 1.37509383e-01, 1.65950657e-01, 1.97939283e-01,\n",
       "       2.33392963e-01, 2.72113933e-01, 3.13786507e-01, 3.57981555e-01,\n",
       "       4.04168162e-01, 4.51732088e-01, 5.00000000e-01, 5.48267913e-01,\n",
       "       5.95831839e-01, 6.42018446e-01, 6.86213493e-01, 7.27886067e-01,\n",
       "       7.66607038e-01, 8.02060718e-01, 8.34049344e-01, 8.62490617e-01,\n",
       "       8.87409104e-01, 9.08922724e-01, 9.27225816e-01, 9.42570383e-01,\n",
       "       9.55247019e-01, 9.65566849e-01, 9.73845513e-01, 9.80389872e-01,\n",
       "       9.85487795e-01, 9.89401053e-01, 9.92361130e-01, 9.94567541e-01,\n",
       "       9.96188192e-01, 9.97361228e-01, 9.98197895e-01, 9.98785943e-01,\n",
       "       9.99193222e-01, 9.99471188e-01, 9.99658131e-01, 9.99782023e-01,\n",
       "       9.99862933e-01, 9.99915002e-01, 9.99948022e-01, 9.99968656e-01,\n",
       "       9.99981362e-01, 9.99989073e-01, 9.99993683e-01, 9.99996400e-01,\n",
       "       9.99997977e-01, 9.99998880e-01, 9.99999389e-01, 9.99999671e-01,\n",
       "       9.99999826e-01, 9.99999910e-01, 9.99999954e-01, 9.99999977e-01,\n",
       "       9.99999989e-01, 9.99999995e-01, 9.99999998e-01, 1.00000000e+00])"
      ]
     },
     "execution_count": 73,
     "metadata": {
      "tags": []
     },
     "output_type": "execute_result"
    }
   ],
   "source": [
    "cdf"
   ]
  },
  {
   "cell_type": "code",
   "execution_count": 74,
   "metadata": {
    "colab": {
     "base_uri": "https://localhost:8080/",
     "height": 34
    },
    "colab_type": "code",
    "executionInfo": {
     "elapsed": 20109,
     "status": "ok",
     "timestamp": 1554689545572,
     "user": {
      "displayName": "Tristan Irons",
      "photoUrl": "",
      "userId": "06363254473347900275"
     },
     "user_tz": 240
    },
    "id": "aCcBKQGBZTn_",
    "outputId": "a17efd7d-4a36-467d-b173-33531cd866b4"
   },
   "outputs": [
    {
     "data": {
      "text/plain": [
       "39"
      ]
     },
     "execution_count": 74,
     "metadata": {
      "tags": []
     },
     "output_type": "execute_result"
    }
   ],
   "source": [
    "find_nearest(cdf, 0.1)[0]"
   ]
  },
  {
   "cell_type": "code",
   "execution_count": 76,
   "metadata": {
    "colab": {
     "base_uri": "https://localhost:8080/",
     "height": 34
    },
    "colab_type": "code",
    "executionInfo": {
     "elapsed": 430,
     "status": "ok",
     "timestamp": 1554689737382,
     "user": {
      "displayName": "Tristan Irons",
      "photoUrl": "",
      "userId": "06363254473347900275"
     },
     "user_tz": 240
    },
    "id": "RBNtvAmnZd3f",
    "outputId": "3e3c74ac-994e-45b7-c564-441a1aaa450d"
   },
   "outputs": [
    {
     "data": {
      "text/plain": [
       "-1.2727272727272725"
      ]
     },
     "execution_count": 76,
     "metadata": {
      "tags": []
     },
     "output_type": "execute_result"
    }
   ],
   "source": [
    "x[39]"
   ]
  },
  {
   "cell_type": "code",
   "execution_count": 0,
   "metadata": {
    "colab": {},
    "colab_type": "code",
    "id": "5sk8pvADapwv"
   },
   "outputs": [],
   "source": [
    "w = np.zeros(xr.shape[0])\n",
    "\n",
    "for i in range(xr.shape[0]):\n",
    "  \n",
    "  index = find_nearest(cdf, xr[i])[0]\n",
    "  \n",
    "  w[i] = x[index]"
   ]
  },
  {
   "cell_type": "code",
   "execution_count": 78,
   "metadata": {
    "colab": {
     "base_uri": "https://localhost:8080/",
     "height": 34
    },
    "colab_type": "code",
    "executionInfo": {
     "elapsed": 291,
     "status": "ok",
     "timestamp": 1554689739502,
     "user": {
      "displayName": "Tristan Irons",
      "photoUrl": "",
      "userId": "06363254473347900275"
     },
     "user_tz": 240
    },
    "id": "AokTAtIobGFC",
    "outputId": "257b522d-fba7-4236-a982-cabc4de0bd8e"
   },
   "outputs": [
    {
     "data": {
      "text/plain": [
       "(10000,)"
      ]
     },
     "execution_count": 78,
     "metadata": {
      "tags": []
     },
     "output_type": "execute_result"
    }
   ],
   "source": [
    "w.shape"
   ]
  },
  {
   "cell_type": "code",
   "execution_count": 79,
   "metadata": {
    "colab": {
     "base_uri": "https://localhost:8080/",
     "height": 347
    },
    "colab_type": "code",
    "executionInfo": {
     "elapsed": 975,
     "status": "ok",
     "timestamp": 1554689740409,
     "user": {
      "displayName": "Tristan Irons",
      "photoUrl": "",
      "userId": "06363254473347900275"
     },
     "user_tz": 240
    },
    "id": "iDrCW9jKbhyF",
    "outputId": "9e400df0-650d-4a79-9ab4-f5f7462ea5c1"
   },
   "outputs": [
    {
     "data": {
      "image/png": "[encoded data removed]",
      "text/plain": [
       "<Figure size 576x396 with 1 Axes>"
      ]
     },
     "metadata": {
      "tags": []
     },
     "output_type": "display_data"
    }
   ],
   "source": [
    "plt.hist(w);"
   ]
  },
  {
   "cell_type": "code",
   "execution_count": 80,
   "metadata": {
    "colab": {
     "base_uri": "https://localhost:8080/",
     "height": 34
    },
    "colab_type": "code",
    "executionInfo": {
     "elapsed": 790,
     "status": "ok",
     "timestamp": 1554689740414,
     "user": {
      "displayName": "Tristan Irons",
      "photoUrl": "",
      "userId": "06363254473347900275"
     },
     "user_tz": 240
    },
    "id": "jRNmzRs6bpIt",
    "outputId": "da16b2ee-3297-4920-ac1c-6c2f055cbf6a"
   },
   "outputs": [
    {
     "data": {
      "text/plain": [
       "39"
      ]
     },
     "execution_count": 80,
     "metadata": {
      "tags": []
     },
     "output_type": "execute_result"
    }
   ],
   "source": [
    "find_nearest(cdf,0.1)[0]"
   ]
  },
  {
   "cell_type": "code",
   "execution_count": 81,
   "metadata": {
    "colab": {
     "base_uri": "https://localhost:8080/",
     "height": 364
    },
    "colab_type": "code",
    "executionInfo": {
     "elapsed": 605,
     "status": "ok",
     "timestamp": 1554689740415,
     "user": {
      "displayName": "Tristan Irons",
      "photoUrl": "",
      "userId": "06363254473347900275"
     },
     "user_tz": 240
    },
    "id": "NjV0iobmeB_K",
    "outputId": "8c66b64e-7888-44fa-b05a-bf9794241f3c"
   },
   "outputs": [
    {
     "data": {
      "text/plain": [
       "[<matplotlib.lines.Line2D at 0x7fba843e1e80>]"
      ]
     },
     "execution_count": 81,
     "metadata": {
      "tags": []
     },
     "output_type": "execute_result"
    },
    {
     "data": {
      "image/png": "[encoded data removed]",
      "text/plain": [
       "<Figure size 576x396 with 1 Axes>"
      ]
     },
     "metadata": {
      "tags": []
     },
     "output_type": "display_data"
    }
   ],
   "source": [
    "plt.plot(x,cdf)"
   ]
  },
  {
   "cell_type": "code",
   "execution_count": 0,
   "metadata": {
    "colab": {},
    "colab_type": "code",
    "id": "kVGi-7itcxOY"
   },
   "outputs": [],
   "source": [
    "dz = cdf[1:] - cdf[0:-1]"
   ]
  },
  {
   "cell_type": "code",
   "execution_count": 83,
   "metadata": {
    "colab": {
     "base_uri": "https://localhost:8080/",
     "height": 347
    },
    "colab_type": "code",
    "executionInfo": {
     "elapsed": 522,
     "status": "ok",
     "timestamp": 1554689740802,
     "user": {
      "displayName": "Tristan Irons",
      "photoUrl": "",
      "userId": "06363254473347900275"
     },
     "user_tz": 240
    },
    "id": "0gfKBmM9ePEu",
    "outputId": "823541c5-895d-4af8-9849-448bd7e3fa1f"
   },
   "outputs": [
    {
     "data": {
      "image/png": "[encoded data removed]",
      "text/plain": [
       "<Figure size 576x396 with 1 Axes>"
      ]
     },
     "metadata": {
      "tags": []
     },
     "output_type": "display_data"
    }
   ],
   "source": [
    "plt.plot(x[1:],dz);"
   ]
  },
  {
   "cell_type": "code",
   "execution_count": 84,
   "metadata": {
    "colab": {
     "base_uri": "https://localhost:8080/",
     "height": 442
    },
    "colab_type": "code",
    "executionInfo": {
     "elapsed": 592,
     "status": "ok",
     "timestamp": 1554689741128,
     "user": {
      "displayName": "Tristan Irons",
      "photoUrl": "",
      "userId": "06363254473347900275"
     },
     "user_tz": 240
    },
    "id": "VQZYPrc5eZbS",
    "outputId": "02287fc4-ba51-4f80-a89d-e6035094fd65"
   },
   "outputs": [
    {
     "data": {
      "text/plain": [
       "array([0.00000000e+00, 7.36470650e-10, 2.24938927e-09, 5.31202165e-09,\n",
       "       1.14213484e-08, 2.34304640e-08, 4.66925078e-08, 9.10946475e-08,\n",
       "       1.74612460e-07, 3.29413366e-07, 6.12153248e-07, 1.12103845e-06,\n",
       "       2.02358947e-06, 3.60099324e-06, 6.31764001e-06, 1.09280829e-05,\n",
       "       1.86383835e-05, 3.13446848e-05, 5.19788153e-05, 8.49984583e-05,\n",
       "       1.37067281e-04, 2.17977304e-04, 3.41870104e-04, 5.28813013e-04,\n",
       "       8.06778647e-04, 1.21405800e-03, 1.80210612e-03, 2.63877288e-03,\n",
       "       3.81180891e-03, 5.43245940e-03, 7.63887115e-03, 1.05989477e-02,\n",
       "       1.45122058e-02, 1.96101283e-02, 2.61544879e-02, 3.44331519e-02,\n",
       "       4.47529818e-02, 5.74296173e-02, 7.27741846e-02, 9.10772770e-02,\n",
       "       1.12590896e-01, 1.37509383e-01, 1.65950657e-01, 1.97939283e-01,\n",
       "       2.33392963e-01, 2.72113933e-01, 3.13786507e-01, 3.57981555e-01,\n",
       "       4.04168162e-01, 4.51732088e-01, 5.00000000e-01, 5.48267913e-01,\n",
       "       5.95831839e-01, 6.42018446e-01, 6.86213493e-01, 7.27886067e-01,\n",
       "       7.66607038e-01, 8.02060718e-01, 8.34049344e-01, 8.62490617e-01,\n",
       "       8.87409104e-01, 9.08922724e-01, 9.27225816e-01, 9.42570383e-01,\n",
       "       9.55247019e-01, 9.65566849e-01, 9.73845513e-01, 9.80389872e-01,\n",
       "       9.85487795e-01, 9.89401053e-01, 9.92361130e-01, 9.94567541e-01,\n",
       "       9.96188192e-01, 9.97361228e-01, 9.98197895e-01, 9.98785943e-01,\n",
       "       9.99193222e-01, 9.99471188e-01, 9.99658131e-01, 9.99782023e-01,\n",
       "       9.99862933e-01, 9.99915002e-01, 9.99948022e-01, 9.99968656e-01,\n",
       "       9.99981362e-01, 9.99989073e-01, 9.99993683e-01, 9.99996400e-01,\n",
       "       9.99997977e-01, 9.99998880e-01, 9.99999389e-01, 9.99999671e-01,\n",
       "       9.99999826e-01, 9.99999910e-01, 9.99999954e-01, 9.99999977e-01,\n",
       "       9.99999989e-01, 9.99999995e-01, 9.99999998e-01, 1.00000000e+00])"
      ]
     },
     "execution_count": 84,
     "metadata": {
      "tags": []
     },
     "output_type": "execute_result"
    }
   ],
   "source": [
    "cdf"
   ]
  },
  {
   "cell_type": "code",
   "execution_count": 85,
   "metadata": {
    "colab": {
     "base_uri": "https://localhost:8080/",
     "height": 442
    },
    "colab_type": "code",
    "executionInfo": {
     "elapsed": 383,
     "status": "ok",
     "timestamp": 1554689741420,
     "user": {
      "displayName": "Tristan Irons",
      "photoUrl": "",
      "userId": "06363254473347900275"
     },
     "user_tz": 240
    },
    "id": "LL_lrcd4elHy",
    "outputId": "adcb54a5-53c8-44c9-eef9-a8b1de684786"
   },
   "outputs": [
    {
     "data": {
      "text/plain": [
       "array([7.36470650e-10, 2.24938927e-09, 5.31202165e-09, 1.14213484e-08,\n",
       "       2.34304640e-08, 4.66925078e-08, 9.10946475e-08, 1.74612460e-07,\n",
       "       3.29413366e-07, 6.12153248e-07, 1.12103845e-06, 2.02358947e-06,\n",
       "       3.60099324e-06, 6.31764001e-06, 1.09280829e-05, 1.86383835e-05,\n",
       "       3.13446848e-05, 5.19788153e-05, 8.49984583e-05, 1.37067281e-04,\n",
       "       2.17977304e-04, 3.41870104e-04, 5.28813013e-04, 8.06778647e-04,\n",
       "       1.21405800e-03, 1.80210612e-03, 2.63877288e-03, 3.81180891e-03,\n",
       "       5.43245940e-03, 7.63887115e-03, 1.05989477e-02, 1.45122058e-02,\n",
       "       1.96101283e-02, 2.61544879e-02, 3.44331519e-02, 4.47529818e-02,\n",
       "       5.74296173e-02, 7.27741846e-02, 9.10772770e-02, 1.12590896e-01,\n",
       "       1.37509383e-01, 1.65950657e-01, 1.97939283e-01, 2.33392963e-01,\n",
       "       2.72113933e-01, 3.13786507e-01, 3.57981555e-01, 4.04168162e-01,\n",
       "       4.51732088e-01, 5.00000000e-01, 5.48267913e-01, 5.95831839e-01,\n",
       "       6.42018446e-01, 6.86213493e-01, 7.27886067e-01, 7.66607038e-01,\n",
       "       8.02060718e-01, 8.34049344e-01, 8.62490617e-01, 8.87409104e-01,\n",
       "       9.08922724e-01, 9.27225816e-01, 9.42570383e-01, 9.55247019e-01,\n",
       "       9.65566849e-01, 9.73845513e-01, 9.80389872e-01, 9.85487795e-01,\n",
       "       9.89401053e-01, 9.92361130e-01, 9.94567541e-01, 9.96188192e-01,\n",
       "       9.97361228e-01, 9.98197895e-01, 9.98785943e-01, 9.99193222e-01,\n",
       "       9.99471188e-01, 9.99658131e-01, 9.99782023e-01, 9.99862933e-01,\n",
       "       9.99915002e-01, 9.99948022e-01, 9.99968656e-01, 9.99981362e-01,\n",
       "       9.99989073e-01, 9.99993683e-01, 9.99996400e-01, 9.99997977e-01,\n",
       "       9.99998880e-01, 9.99999389e-01, 9.99999671e-01, 9.99999826e-01,\n",
       "       9.99999910e-01, 9.99999954e-01, 9.99999977e-01, 9.99999989e-01,\n",
       "       9.99999995e-01, 9.99999998e-01, 1.00000000e+00])"
      ]
     },
     "execution_count": 85,
     "metadata": {
      "tags": []
     },
     "output_type": "execute_result"
    }
   ],
   "source": [
    "cdf[1:]"
   ]
  },
  {
   "cell_type": "code",
   "execution_count": 86,
   "metadata": {
    "colab": {
     "base_uri": "https://localhost:8080/",
     "height": 34
    },
    "colab_type": "code",
    "executionInfo": {
     "elapsed": 575,
     "status": "ok",
     "timestamp": 1554689745780,
     "user": {
      "displayName": "Tristan Irons",
      "photoUrl": "",
      "userId": "06363254473347900275"
     },
     "user_tz": 240
    },
    "id": "5kRPksXjemAE",
    "outputId": "b9a10c6e-842f-4a3b-a644-26b70b0d039c"
   },
   "outputs": [
    {
     "data": {
      "text/plain": [
       "(100,)"
      ]
     },
     "execution_count": 86,
     "metadata": {
      "tags": []
     },
     "output_type": "execute_result"
    }
   ],
   "source": [
    "cdf.shape"
   ]
  },
  {
   "cell_type": "code",
   "execution_count": 87,
   "metadata": {
    "colab": {
     "base_uri": "https://localhost:8080/",
     "height": 34
    },
    "colab_type": "code",
    "executionInfo": {
     "elapsed": 706,
     "status": "ok",
     "timestamp": 1554689745981,
     "user": {
      "displayName": "Tristan Irons",
      "photoUrl": "",
      "userId": "06363254473347900275"
     },
     "user_tz": 240
    },
    "id": "_cz4Xz5fenUj",
    "outputId": "31aca3a9-46e3-44c0-d589-0f4a14f2bddb"
   },
   "outputs": [
    {
     "data": {
      "text/plain": [
       "(99,)"
      ]
     },
     "execution_count": 87,
     "metadata": {
      "tags": []
     },
     "output_type": "execute_result"
    }
   ],
   "source": [
    "cdf[1:].shape"
   ]
  },
  {
   "cell_type": "code",
   "execution_count": 88,
   "metadata": {
    "colab": {
     "base_uri": "https://localhost:8080/",
     "height": 34
    },
    "colab_type": "code",
    "executionInfo": {
     "elapsed": 594,
     "status": "ok",
     "timestamp": 1554689745983,
     "user": {
      "displayName": "Tristan Irons",
      "photoUrl": "",
      "userId": "06363254473347900275"
     },
     "user_tz": 240
    },
    "id": "MI-2YK-3eppK",
    "outputId": "b41900c5-1cd6-4f18-dca4-cb1829e4aae2"
   },
   "outputs": [
    {
     "data": {
      "text/plain": [
       "(99,)"
      ]
     },
     "execution_count": 88,
     "metadata": {
      "tags": []
     },
     "output_type": "execute_result"
    }
   ],
   "source": [
    "cdf[0:-1].shape"
   ]
  },
  {
   "cell_type": "code",
   "execution_count": 0,
   "metadata": {
    "colab": {},
    "colab_type": "code",
    "id": "3Q_vG7QOe1r8"
   },
   "outputs": [],
   "source": [
    "d_cdf = cdf[1:] - cdf[0:-1]"
   ]
  },
  {
   "cell_type": "code",
   "execution_count": 90,
   "metadata": {
    "colab": {
     "base_uri": "https://localhost:8080/",
     "height": 364
    },
    "colab_type": "code",
    "executionInfo": {
     "elapsed": 619,
     "status": "ok",
     "timestamp": 1554689747273,
     "user": {
      "displayName": "Tristan Irons",
      "photoUrl": "",
      "userId": "06363254473347900275"
     },
     "user_tz": 240
    },
    "id": "-a22Iw9GfIfV",
    "outputId": "9142a35f-3572-4a7b-e0b5-b7f0dbf4cb1e"
   },
   "outputs": [
    {
     "data": {
      "text/plain": [
       "[<matplotlib.lines.Line2D at 0x7fba8439ce48>]"
      ]
     },
     "execution_count": 90,
     "metadata": {
      "tags": []
     },
     "output_type": "execute_result"
    },
    {
     "data": {
      "image/png": "[encoded data removed]",
      "text/plain": [
       "<Figure size 576x396 with 1 Axes>"
      ]
     },
     "metadata": {
      "tags": []
     },
     "output_type": "display_data"
    }
   ],
   "source": [
    "plt.plot(x[1:],d_cdf)"
   ]
  },
  {
   "cell_type": "code",
   "execution_count": 0,
   "metadata": {
    "colab": {},
    "colab_type": "code",
    "id": "5PyKSpyquuZZ"
   },
   "outputs": [],
   "source": []
  }
 ],
 "metadata": {
  "colab": {
   "collapsed_sections": [],
   "name": "hw8.ipynb",
   "provenance": [],
   "version": "0.3.2"
  },
  "kernelspec": {
   "display_name": "Python 3",
   "language": "python",
   "name": "python3"
  },
  "language_info": {
   "codemirror_mode": {
    "name": "ipython",
    "version": 3
   },
   "file_extension": ".py",
   "mimetype": "text/x-python",
   "name": "python",
   "nbconvert_exporter": "python",
   "pygments_lexer": "ipython3",
   "version": "3.7.7"
  }
 },
 "nbformat": 4,
 "nbformat_minor": 1
}
